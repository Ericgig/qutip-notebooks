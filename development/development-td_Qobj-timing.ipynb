{
 "cells": [
  {
   "cell_type": "markdown",
   "metadata": {},
   "source": [
    "# Timing for td_Qobj\n",
    "\n",
    "Made by "
   ]
  },
  {
   "cell_type": "code",
   "execution_count": 1,
   "metadata": {
    "collapsed": true
   },
   "outputs": [],
   "source": [
    "import qutip as qt\n",
    "import numpy as np\n",
    "from qutip import td_qobj\n",
    "%load_ext cython"
   ]
  },
  {
   "cell_type": "code",
   "execution_count": 2,
   "metadata": {
    "collapsed": true
   },
   "outputs": [],
   "source": [
    "N = 10\n",
    "destroy, create, Id = qt.destroy(N), qt.create(N), qt.qeye(N)\n",
    "def exp_i(t,args):\n",
    "    return np.exp(-1j*t)\n",
    "def cos_w(t,args):\n",
    "    return np.cos(args[\"w\"]*t)\n",
    "tlist = np.linspace(0,10,10000)\n",
    "tlistlog = np.logspace(-3,1,10000)\n",
    "\n",
    "# state vector as np array\n",
    "vec = np.arange(N)*.5+.5j\n",
    "vec_super = np.arange(N**2)*.5+.5j\n",
    "\n",
    "# Construct td_Qobj of all type\n",
    "td_cte1 = td_qobj.td_Qobj(Id)\n",
    "td_cte2 = td_qobj.td_Qobj([Id])\n",
    "\n",
    "td_func = td_qobj.td_Qobj([Id,[create,exp_i],[destroy,cos_w]],args={\"w\":2})\n",
    "td_str = td_qobj.td_Qobj([Id,[create,\"exp(-1j*t)\"],[destroy,\"cos(w*t)\"]],args={'w':2.})\n",
    "td_array = td_qobj.td_Qobj([Id,[create,np.exp(-1j*tlist)],[destroy,np.cos(2*tlist)]],tlist=tlist)\n",
    "td_array_log = td_qobj.td_Qobj([Id,[create,np.exp(-1j*tlistlog)],[destroy,np.cos(2*tlistlog)]],tlist=tlistlog)\n",
    "\n",
    "td_super = qt.liouvillian(td_func, c_ops=td_cte1)"
   ]
  },
  {
   "cell_type": "markdown",
   "metadata": {},
   "source": [
    "## Compilation and speed\n",
    "\n",
    "Timing check for all coeff formats.  \n",
    "Still use the old \"get_compiled_call\" which kept the python and cython function separated.  \n",
    "Now once compiled, the cython method is used by the usual method."
   ]
  },
  {
   "cell_type": "code",
   "execution_count": 3,
   "metadata": {},
   "outputs": [
    {
     "name": "stdout",
     "output_type": "stream",
     "text": [
      "Time for cte\n",
      "51.5 µs ± 445 ns per loop (mean ± std. dev. of 7 runs, 10000 loops each)\n",
      "11.8 µs ± 187 ns per loop (mean ± std. dev. of 7 runs, 100000 loops each)\n",
      "Time for compiled cte\n",
      "63.6 µs ± 235 ns per loop (mean ± std. dev. of 7 runs, 10000 loops each)\n",
      "10.2 µs ± 22.3 ns per loop (mean ± std. dev. of 7 runs, 100000 loops each)\n"
     ]
    }
   ],
   "source": [
    "# The compiled version build the scipy object from the sparce matrix if not used with data=True\n",
    "print(\"Time for cte\")\n",
    "td_cte1.compiled = False\n",
    "%timeit td_cte1(2)\n",
    "%timeit td_cte1(2, data=True)\n",
    "print(\"Time for compiled cte\")\n",
    "td_cte1.compile()\n",
    "%timeit td_cte1(2)\n",
    "%timeit td_cte1(2, data=True)"
   ]
  },
  {
   "cell_type": "code",
   "execution_count": 4,
   "metadata": {},
   "outputs": [
    {
     "name": "stdout",
     "output_type": "stream",
     "text": [
      "Time for str\n",
      "518 µs ± 883 ns per loop (mean ± std. dev. of 7 runs, 1000 loops each)\n",
      "134 µs ± 584 ns per loop (mean ± std. dev. of 7 runs, 10000 loops each)\n",
      "70.3 µs ± 874 ns per loop (mean ± std. dev. of 7 runs, 10000 loops each)\n",
      "14.6 µs ± 150 ns per loop (mean ± std. dev. of 7 runs, 100000 loops each)\n"
     ]
    }
   ],
   "source": [
    "print(\"Time for str\")\n",
    "td_str.compiled = False\n",
    "%timeit td_str(2)\n",
    "%timeit td_str(2, data=True)\n",
    "td_str.compile()\n",
    "%timeit td_str(2)\n",
    "%timeit td_str(2, data=True)"
   ]
  },
  {
   "cell_type": "code",
   "execution_count": 5,
   "metadata": {},
   "outputs": [
    {
     "name": "stdout",
     "output_type": "stream",
     "text": [
      "Time for function\n",
      "529 µs ± 1.21 µs per loop (mean ± std. dev. of 7 runs, 1000 loops each)\n",
      "142 µs ± 518 ns per loop (mean ± std. dev. of 7 runs, 10000 loops each)\n",
      "78.4 µs ± 351 ns per loop (mean ± std. dev. of 7 runs, 10000 loops each)\n",
      "22.7 µs ± 140 ns per loop (mean ± std. dev. of 7 runs, 10000 loops each)\n"
     ]
    }
   ],
   "source": [
    "print(\"Time for function\")\n",
    "td_func.compiled = False\n",
    "%timeit td_func(2)\n",
    "%timeit td_func(2, data=True)\n",
    "td_func.compile()\n",
    "%timeit td_func(2)\n",
    "%timeit td_func(2, data=True)"
   ]
  },
  {
   "cell_type": "code",
   "execution_count": 6,
   "metadata": {},
   "outputs": [
    {
     "name": "stdout",
     "output_type": "stream",
     "text": [
      "Time for array\n",
      "583 µs ± 2.66 µs per loop (mean ± std. dev. of 7 runs, 1000 loops each)\n",
      "192 µs ± 380 ns per loop (mean ± std. dev. of 7 runs, 10000 loops each)\n",
      "69.3 µs ± 660 ns per loop (mean ± std. dev. of 7 runs, 10000 loops each)\n",
      "14.4 µs ± 30.7 ns per loop (mean ± std. dev. of 7 runs, 100000 loops each)\n"
     ]
    }
   ],
   "source": [
    "print(\"Time for array\")\n",
    "td_array.compiled = False\n",
    "%timeit td_array(2)\n",
    "%timeit td_array(2, data=True)\n",
    "td_array.compile()\n",
    "%timeit td_array(2)\n",
    "%timeit td_array(2, data=True)"
   ]
  },
  {
   "cell_type": "code",
   "execution_count": 7,
   "metadata": {},
   "outputs": [
    {
     "name": "stdout",
     "output_type": "stream",
     "text": [
      "Time for array with variable time step\n",
      "586 µs ± 7.14 µs per loop (mean ± std. dev. of 7 runs, 1000 loops each)\n",
      "190 µs ± 1.37 µs per loop (mean ± std. dev. of 7 runs, 10000 loops each)\n",
      "69.1 µs ± 1.73 µs per loop (mean ± std. dev. of 7 runs, 10000 loops each)\n",
      "14.6 µs ± 65.7 ns per loop (mean ± std. dev. of 7 runs, 100000 loops each)\n"
     ]
    }
   ],
   "source": [
    "print(\"Time for array with variable time step\")\n",
    "td_array_log.compiled = False\n",
    "%timeit td_array_log(2)\n",
    "%timeit td_array_log(2, data=True)\n",
    "td_array_log.compile()\n",
    "%timeit td_array_log(2)\n",
    "%timeit td_array_log(2, data=True)"
   ]
  },
  {
   "cell_type": "markdown",
   "metadata": {},
   "source": [
    "## Timing for rhs vs spmv"
   ]
  },
  {
   "cell_type": "code",
   "execution_count": 8,
   "metadata": {},
   "outputs": [
    {
     "name": "stdout",
     "output_type": "stream",
     "text": [
      "timing for rhs: cte\n",
      "19.1 µs ± 929 ns per loop (mean ± std. dev. of 7 runs, 10000 loops each)\n",
      "4.8 µs ± 13.8 ns per loop (mean ± std. dev. of 7 runs, 100000 loops each)\n",
      "20.7 µs ± 173 ns per loop (mean ± std. dev. of 7 runs, 10000 loops each)\n",
      "5.8 µs ± 16.8 ns per loop (mean ± std. dev. of 7 runs, 100000 loops each)\n"
     ]
    }
   ],
   "source": [
    "print(\"timing for rhs: cte\")\n",
    "td_cte1.compiled = False\n",
    "%timeit qt.cy.spmv(td_cte1(2, data=True), vec)\n",
    "%timeit qt.cy.spmv(Id.data, vec)\n",
    "%timeit td_cte1.rhs(2,vec)\n",
    "td_cte1.compile()\n",
    "%timeit td_cte1.rhs(2,vec)"
   ]
  },
  {
   "cell_type": "code",
   "execution_count": 9,
   "metadata": {},
   "outputs": [
    {
     "name": "stdout",
     "output_type": "stream",
     "text": [
      "timing for rhs: str\n",
      "145 µs ± 1.42 µs per loop (mean ± std. dev. of 7 runs, 10000 loops each)\n",
      "147 µs ± 1.73 µs per loop (mean ± std. dev. of 7 runs, 10000 loops each)\n",
      "8.76 µs ± 126 ns per loop (mean ± std. dev. of 7 runs, 100000 loops each)\n"
     ]
    }
   ],
   "source": [
    "print(\"timing for rhs: str\")\n",
    "td_str.compiled = False\n",
    "%timeit qt.cy.spmv(td_str(2, data=True), vec)\n",
    "%timeit td_str.rhs(2,vec)\n",
    "td_str.compile()\n",
    "%timeit td_str.rhs(2,vec)"
   ]
  },
  {
   "cell_type": "code",
   "execution_count": 10,
   "metadata": {},
   "outputs": [
    {
     "name": "stdout",
     "output_type": "stream",
     "text": [
      "timing for rhs: func\n",
      "153 µs ± 831 ns per loop (mean ± std. dev. of 7 runs, 10000 loops each)\n",
      "155 µs ± 1.32 µs per loop (mean ± std. dev. of 7 runs, 10000 loops each)\n",
      "15.5 µs ± 87.2 ns per loop (mean ± std. dev. of 7 runs, 100000 loops each)\n"
     ]
    }
   ],
   "source": [
    "print(\"timing for rhs: func\")\n",
    "td_func.compiled = False\n",
    "%timeit qt.cy.spmv(td_func(2, data=True), vec)\n",
    "%timeit td_func.rhs(2,vec)\n",
    "td_func.compile()\n",
    "%timeit td_func.rhs(2,vec)"
   ]
  },
  {
   "cell_type": "code",
   "execution_count": 11,
   "metadata": {},
   "outputs": [
    {
     "name": "stdout",
     "output_type": "stream",
     "text": [
      "timing for rhs: array\n",
      "206 µs ± 6.61 µs per loop (mean ± std. dev. of 7 runs, 1000 loops each)\n",
      "202 µs ± 4 µs per loop (mean ± std. dev. of 7 runs, 1000 loops each)\n",
      "8.39 µs ± 31.2 ns per loop (mean ± std. dev. of 7 runs, 100000 loops each)\n"
     ]
    }
   ],
   "source": [
    "print(\"timing for rhs: array\")\n",
    "td_array.compiled = False\n",
    "%timeit qt.cy.spmv(td_array(2, data=True), vec)\n",
    "%timeit td_array.rhs(2,vec)\n",
    "td_array.compile()\n",
    "%timeit td_array.rhs(2,vec)"
   ]
  },
  {
   "cell_type": "code",
   "execution_count": 12,
   "metadata": {},
   "outputs": [
    {
     "name": "stdout",
     "output_type": "stream",
     "text": [
      "timing for rhs: array with variable time step\n",
      "202 µs ± 5.72 µs per loop (mean ± std. dev. of 7 runs, 1000 loops each)\n",
      "202 µs ± 2.66 µs per loop (mean ± std. dev. of 7 runs, 1000 loops each)\n",
      "8.6 µs ± 169 ns per loop (mean ± std. dev. of 7 runs, 100000 loops each)\n"
     ]
    }
   ],
   "source": [
    "print(\"timing for rhs: array with variable time step\")\n",
    "td_array_log.compiled = False\n",
    "%timeit qt.cy.spmv(td_array_log(2, data=True), vec)\n",
    "%timeit td_array_log.rhs(2,vec)\n",
    "td_array_log.compile()\n",
    "%timeit td_array_log.rhs(2,vec)"
   ]
  },
  {
   "cell_type": "markdown",
   "metadata": {},
   "source": [
    "## Timing for expect"
   ]
  },
  {
   "cell_type": "code",
   "execution_count": 13,
   "metadata": {},
   "outputs": [
    {
     "name": "stdout",
     "output_type": "stream",
     "text": [
      "timing for expect: cte\n",
      "16.2 µs ± 39.9 ns per loop (mean ± std. dev. of 7 runs, 100000 loops each)\n",
      "19.1 µs ± 45.2 ns per loop (mean ± std. dev. of 7 runs, 100000 loops each)\n",
      "6.51 µs ± 25.7 ns per loop (mean ± std. dev. of 7 runs, 100000 loops each)\n"
     ]
    }
   ],
   "source": [
    "print(\"timing for expect: cte\")\n",
    "td_cte1.compiled = False\n",
    "%timeit qt.cy.cy_expect_psi(td_cte1(2, data=True), vec, 0)\n",
    "%timeit td_cte1.expect(2,vec,0)\n",
    "td_cte1.compile()\n",
    "%timeit td_cte1.expect(2,vec,0)"
   ]
  },
  {
   "cell_type": "code",
   "execution_count": 14,
   "metadata": {},
   "outputs": [
    {
     "name": "stdout",
     "output_type": "stream",
     "text": [
      "timing for expect: str\n",
      "139 µs ± 304 ns per loop (mean ± std. dev. of 7 runs, 10000 loops each)\n",
      "142 µs ± 190 ns per loop (mean ± std. dev. of 7 runs, 10000 loops each)\n",
      "9.66 µs ± 208 ns per loop (mean ± std. dev. of 7 runs, 100000 loops each)\n"
     ]
    }
   ],
   "source": [
    "print(\"timing for expect: str\")\n",
    "td_str.compiled = False\n",
    "%timeit qt.cy.cy_expect_psi(td_str(2, data=True), vec, 0)\n",
    "%timeit td_str.expect(2,vec,0)\n",
    "td_str.compile()\n",
    "%timeit td_str.expect(2,vec,0)"
   ]
  },
  {
   "cell_type": "code",
   "execution_count": 15,
   "metadata": {},
   "outputs": [
    {
     "name": "stdout",
     "output_type": "stream",
     "text": [
      "timing for expect: func\n",
      "147 µs ± 274 ns per loop (mean ± std. dev. of 7 runs, 10000 loops each)\n",
      "152 µs ± 2.61 µs per loop (mean ± std. dev. of 7 runs, 10000 loops each)\n",
      "16.9 µs ± 38.6 ns per loop (mean ± std. dev. of 7 runs, 100000 loops each)\n"
     ]
    }
   ],
   "source": [
    "print(\"timing for expect: func\")\n",
    "td_func.compiled = False\n",
    "%timeit qt.cy.cy_expect_psi(td_func(2, data=True), vec, 0)\n",
    "%timeit td_func.expect(2,vec,0)\n",
    "td_func.compile()\n",
    "%timeit td_func.expect(2,vec,0)"
   ]
  },
  {
   "cell_type": "code",
   "execution_count": 16,
   "metadata": {},
   "outputs": [
    {
     "name": "stdout",
     "output_type": "stream",
     "text": [
      "timing for expect: array\n",
      "201 µs ± 3.04 µs per loop (mean ± std. dev. of 7 runs, 1000 loops each)\n",
      "207 µs ± 17 µs per loop (mean ± std. dev. of 7 runs, 1000 loops each)\n",
      "9.41 µs ± 167 ns per loop (mean ± std. dev. of 7 runs, 100000 loops each)\n"
     ]
    }
   ],
   "source": [
    "print(\"timing for expect: array\")\n",
    "td_array.compiled = False\n",
    "%timeit qt.cy.cy_expect_psi(td_array(2, data=True), vec, 0)\n",
    "%timeit td_array.expect(2,vec,0)\n",
    "td_array.compile()\n",
    "%timeit td_array.expect(2,vec,0)"
   ]
  },
  {
   "cell_type": "code",
   "execution_count": 17,
   "metadata": {},
   "outputs": [
    {
     "name": "stdout",
     "output_type": "stream",
     "text": [
      "timing for expect: array logscale\n",
      "198 µs ± 1.48 µs per loop (mean ± std. dev. of 7 runs, 1000 loops each)\n",
      "200 µs ± 366 ns per loop (mean ± std. dev. of 7 runs, 1000 loops each)\n",
      "9.43 µs ± 53 ns per loop (mean ± std. dev. of 7 runs, 100000 loops each)\n"
     ]
    }
   ],
   "source": [
    "print(\"timing for expect: array logscale\")\n",
    "td_array_log.compiled = False\n",
    "%timeit qt.cy.cy_expect_psi(td_array_log(2, data=True), vec, 0)\n",
    "%timeit td_array_log.expect(2,vec,0)\n",
    "td_array_log.compile()\n",
    "%timeit td_array_log.expect(2,vec,0)"
   ]
  },
  {
   "cell_type": "code",
   "execution_count": 18,
   "metadata": {},
   "outputs": [
    {
     "name": "stdout",
     "output_type": "stream",
     "text": [
      "timing for expect_rho: func\n",
      "155 µs ± 289 ns per loop (mean ± std. dev. of 7 runs, 10000 loops each)\n",
      "159 µs ± 918 ns per loop (mean ± std. dev. of 7 runs, 10000 loops each)\n",
      "15 µs ± 282 ns per loop (mean ± std. dev. of 7 runs, 100000 loops each)\n"
     ]
    }
   ],
   "source": [
    "print(\"timing for expect_rho: func\")\n",
    "td_super.compiled = False\n",
    "%timeit qt.cy.cy_expect_rho_vec(td_super(2, data=True), vec_super, 0)\n",
    "%timeit td_super.expect(2,vec_super,0)\n",
    "td_super.compile()\n",
    "%timeit td_super.expect(2,vec_super,0)"
   ]
  },
  {
   "cell_type": "markdown",
   "metadata": {},
   "source": [
    "## Timing with_args"
   ]
  },
  {
   "cell_type": "code",
   "execution_count": 19,
   "metadata": {},
   "outputs": [],
   "source": [
    "td_args = td_qobj.td_Qobj([Id,[destroy,cos_w]],args={\"w\":1})"
   ]
  },
  {
   "cell_type": "code",
   "execution_count": 20,
   "metadata": {},
   "outputs": [
    {
     "name": "stdout",
     "output_type": "stream",
     "text": [
      "284 µs ± 1.31 µs per loop (mean ± std. dev. of 7 runs, 1000 loops each)\n",
      "280 µs ± 1.28 µs per loop (mean ± std. dev. of 7 runs, 1000 loops each)\n",
      "82.4 µs ± 1.41 µs per loop (mean ± std. dev. of 7 runs, 10000 loops each)\n",
      "76.6 µs ± 261 ns per loop (mean ± std. dev. of 7 runs, 10000 loops each)\n",
      "76 µs ± 342 ns per loop (mean ± std. dev. of 7 runs, 10000 loops each)\n",
      "72 µs ± 137 ns per loop (mean ± std. dev. of 7 runs, 10000 loops each)\n",
      "21.6 µs ± 55.4 ns per loop (mean ± std. dev. of 7 runs, 10000 loops each)\n",
      "19 µs ± 258 ns per loop (mean ± std. dev. of 7 runs, 100000 loops each)\n"
     ]
    }
   ],
   "source": [
    "%timeit td_args.with_args(2,{\"w\":2})\n",
    "%timeit td_args(2)\n",
    "%timeit td_args.with_args(2,{\"w\":2},data=True)\n",
    "%timeit td_args(2,data=True)\n",
    "td_args.compile()\n",
    "%timeit td_args.with_args(2,{\"w\":2})\n",
    "%timeit td_args(2)\n",
    "%timeit td_args.with_args(2,{\"w\":2},data=True)\n",
    "%timeit td_args(2,data=True)"
   ]
  },
  {
   "cell_type": "code",
   "execution_count": 21,
   "metadata": {
    "collapsed": true
   },
   "outputs": [],
   "source": [
    "td_args = td_qobj.td_Qobj([Id,[destroy,\"cos(w*t)\"]],args={\"w\":1})"
   ]
  },
  {
   "cell_type": "code",
   "execution_count": 22,
   "metadata": {},
   "outputs": [
    {
     "name": "stdout",
     "output_type": "stream",
     "text": [
      "290 µs ± 2.36 µs per loop (mean ± std. dev. of 7 runs, 1000 loops each)\n",
      "285 µs ± 3.32 µs per loop (mean ± std. dev. of 7 runs, 1000 loops each)\n",
      "77.5 µs ± 1.53 µs per loop (mean ± std. dev. of 7 runs, 10000 loops each)\n",
      "72.4 µs ± 277 ns per loop (mean ± std. dev. of 7 runs, 10000 loops each)\n",
      "72.3 µs ± 221 ns per loop (mean ± std. dev. of 7 runs, 10000 loops each)\n",
      "68.3 µs ± 1.65 µs per loop (mean ± std. dev. of 7 runs, 10000 loops each)\n",
      "18.1 µs ± 214 ns per loop (mean ± std. dev. of 7 runs, 100000 loops each)\n",
      "13.7 µs ± 95.3 ns per loop (mean ± std. dev. of 7 runs, 100000 loops each)\n"
     ]
    }
   ],
   "source": [
    "%timeit td_args.with_args(2,{\"w\":2})\n",
    "%timeit td_args(2)\n",
    "%timeit td_args.with_args(2,{\"w\":2},data=True)\n",
    "%timeit td_args(2,data=True)\n",
    "td_args.compile()\n",
    "%timeit td_args.with_args(2,{\"w\":2})\n",
    "%timeit td_args(2)\n",
    "%timeit td_args.with_args(2,{\"w\":2},data=True)\n",
    "%timeit td_args(2,data=True)"
   ]
  },
  {
   "cell_type": "markdown",
   "metadata": {},
   "source": [
    "## Timing with_state"
   ]
  },
  {
   "cell_type": "code",
   "execution_count": 23,
   "metadata": {},
   "outputs": [
    {
     "name": "stdout",
     "output_type": "stream",
     "text": [
      "300 µs ± 9.43 µs per loop (mean ± std. dev. of 7 runs, 1000 loops each)\n",
      "78.1 µs ± 1.85 µs per loop (mean ± std. dev. of 7 runs, 10000 loops each)\n"
     ]
    }
   ],
   "source": [
    "def coeff_state(t, psi, args):\n",
    "    return np.max(psi)*args[\"w\"]\n",
    "td_state = td_qobj.td_Qobj([Id, [destroy, coeff_state]],args={\"w\":1})\n",
    "%timeit td_state.with_state(2,vec)\n",
    "td_state.compile()\n",
    "%timeit td_state.with_state(2,vec)"
   ]
  },
  {
   "cell_type": "code",
   "execution_count": null,
   "metadata": {
    "collapsed": true
   },
   "outputs": [],
   "source": []
  }
 ],
 "metadata": {
  "kernelspec": {
   "display_name": "Python 3",
   "language": "python",
   "name": "python3"
  },
  "language_info": {
   "codemirror_mode": {
    "name": "ipython",
    "version": 3
   },
   "file_extension": ".py",
   "mimetype": "text/x-python",
   "name": "python",
   "nbconvert_exporter": "python",
   "pygments_lexer": "ipython3",
   "version": "3.6.3"
  }
 },
 "nbformat": 4,
 "nbformat_minor": 2
}
