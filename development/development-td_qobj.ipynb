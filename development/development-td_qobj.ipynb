{
 "cells": [
  {
   "cell_type": "markdown",
   "metadata": {},
   "source": [
    "## td_Qobj usage example\n",
    "Features of td_Qobj for the users."
   ]
  },
  {
   "cell_type": "code",
   "execution_count": 1,
   "metadata": {
    "collapsed": true
   },
   "outputs": [],
   "source": [
    "from qutip import *\n",
    "import time\n",
    "import numpy as np"
   ]
  },
  {
   "cell_type": "markdown",
   "metadata": {},
   "source": [
    "## Definition of time-dependant Qobj\n",
    "\n",
    "td_Qobj are definied from list of Qobj:  \n",
    "[Qobj0, [Qobj1, coeff1], [Qobj2, coeff2]]  \n",
    "coeff can be one of: \n",
    "- function\n",
    "- string\n",
    "- np.array"
   ]
  },
  {
   "cell_type": "code",
   "execution_count": 2,
   "metadata": {
    "collapsed": true
   },
   "outputs": [],
   "source": [
    "# Definition of base Qobj and \n",
    "N = 4\n",
    "\n",
    "def sin_w(t, args):\n",
    "    return np.cos(args[\"w\"]*t)\n",
    "\n",
    "def cos_w(t, args):\n",
    "    return np.cos(args[\"w\"]*t)\n",
    "\n",
    "tlist = np.linspace(0,10,10000)\n",
    "tlistlog = np.logspace(-3,1,10000)\n"
   ]
  },
  {
   "cell_type": "code",
   "execution_count": 3,
   "metadata": {},
   "outputs": [
    {
     "data": {
      "text/latex": [
       "Quantum object: dims = [[4], [4]], shape = (4, 4), type = oper, isherm = False\\begin{equation*}\\left(\\begin{array}{*{11}c}0.0 & 1.0 & 0.0 & 0.0\\\\0.0 & 0.0 & 1.414 & 0.0\\\\0.0 & 0.0 & 0.0 & 1.732\\\\0.0 & 0.0 & 0.0 & 0.0\\\\\\end{array}\\right)\\end{equation*}"
      ],
      "text/plain": [
       "Quantum object: dims = [[4], [4]], shape = (4, 4), type = oper, isherm = False\n",
       "Qobj data =\n",
       "[[ 0.          1.          0.          0.        ]\n",
       " [ 0.          0.          1.41421356  0.        ]\n",
       " [ 0.          0.          0.          1.73205081]\n",
       " [ 0.          0.          0.          0.        ]]"
      ]
     },
     "execution_count": 3,
     "metadata": {},
     "output_type": "execute_result"
    }
   ],
   "source": [
    "# constant td_Qobj\n",
    "cte_td_Qobj = td_Qobj(destroy(N))\n",
    "cte_td_Qobj(1)"
   ]
  },
  {
   "cell_type": "code",
   "execution_count": 4,
   "metadata": {},
   "outputs": [
    {
     "data": {
      "text/latex": [
       "Quantum object: dims = [[4], [4]], shape = (4, 4), type = oper, isherm = False\\begin{equation*}\\left(\\begin{array}{*{11}c}-0.416 & 1.0 & 0.0 & 0.0\\\\0.0 & -0.416 & 1.414 & 0.0\\\\0.0 & 0.0 & -0.416 & 1.732\\\\0.0 & 0.0 & 0.0 & -0.416\\\\\\end{array}\\right)\\end{equation*}"
      ],
      "text/plain": [
       "Quantum object: dims = [[4], [4]], shape = (4, 4), type = oper, isherm = False\n",
       "Qobj data =\n",
       "[[-0.41614684  1.          0.          0.        ]\n",
       " [ 0.         -0.41614684  1.41421356  0.        ]\n",
       " [ 0.          0.         -0.41614684  1.73205081]\n",
       " [ 0.          0.          0.         -0.41614684]]"
      ]
     },
     "execution_count": 4,
     "metadata": {},
     "output_type": "execute_result"
    }
   ],
   "source": [
    "# td_Qobj with function based coeff\n",
    "func_td_Qobj = td_Qobj([destroy(N),[qeye(N),cos_w]],args={\"w\":2})\n",
    "func_td_Qobj(1)"
   ]
  },
  {
   "cell_type": "code",
   "execution_count": 5,
   "metadata": {},
   "outputs": [
    {
     "data": {
      "text/latex": [
       "Quantum object: dims = [[4], [4]], shape = (4, 4), type = oper, isherm = False\\begin{equation*}\\left(\\begin{array}{*{11}c}-0.416 & 1.0 & 0.0 & 0.0\\\\0.0 & -0.416 & 1.414 & 0.0\\\\0.0 & 0.0 & -0.416 & 1.732\\\\0.0 & 0.0 & 0.0 & -0.416\\\\\\end{array}\\right)\\end{equation*}"
      ],
      "text/plain": [
       "Quantum object: dims = [[4], [4]], shape = (4, 4), type = oper, isherm = False\n",
       "Qobj data =\n",
       "[[-0.41614684  1.          0.          0.        ]\n",
       " [ 0.         -0.41614684  1.41421356  0.        ]\n",
       " [ 0.          0.         -0.41614684  1.73205081]\n",
       " [ 0.          0.          0.         -0.41614684]]"
      ]
     },
     "execution_count": 5,
     "metadata": {},
     "output_type": "execute_result"
    }
   ],
   "source": [
    "# td_Qobj with sting based coeff\n",
    "str_td_Qobj = td_Qobj([destroy(N),[qeye(N),\"cos(w*t)\"]],args={\"w\":2})\n",
    "str_td_Qobj(1)"
   ]
  },
  {
   "cell_type": "code",
   "execution_count": 6,
   "metadata": {},
   "outputs": [
    {
     "data": {
      "text/latex": [
       "Quantum object: dims = [[4], [4]], shape = (4, 4), type = oper, isherm = False\\begin{equation*}\\left(\\begin{array}{*{11}c}-0.416 & 1.0 & 0.0 & 0.0\\\\0.0 & -0.416 & 1.414 & 0.0\\\\0.0 & 0.0 & -0.416 & 1.732\\\\0.0 & 0.0 & 0.0 & -0.416\\\\\\end{array}\\right)\\end{equation*}"
      ],
      "text/plain": [
       "Quantum object: dims = [[4], [4]], shape = (4, 4), type = oper, isherm = False\n",
       "Qobj data =\n",
       "[[-0.41614684  1.          0.          0.        ]\n",
       " [ 0.         -0.41614684  1.41421356  0.        ]\n",
       " [ 0.          0.         -0.41614684  1.73205081]\n",
       " [ 0.          0.          0.         -0.41614684]]"
      ]
     },
     "execution_count": 6,
     "metadata": {},
     "output_type": "execute_result"
    }
   ],
   "source": [
    "# td_Qobj with array based coeff\n",
    "array_td_Qobj = td_Qobj([destroy(N),[qeye(N),np.cos(2*tlist)]],tlist=tlist)\n",
    "array_td_Qobj(1)"
   ]
  },
  {
   "cell_type": "code",
   "execution_count": 7,
   "metadata": {},
   "outputs": [
    {
     "data": {
      "text/latex": [
       "Quantum object: dims = [[4], [4]], shape = (4, 4), type = oper, isherm = False\\begin{equation*}\\left(\\begin{array}{*{11}c}-0.416 & 1.0 & 0.0 & 0.0\\\\0.0 & -0.416 & 1.414 & 0.0\\\\0.0 & 0.0 & -0.416 & 1.732\\\\0.0 & 0.0 & 0.0 & -0.416\\\\\\end{array}\\right)\\end{equation*}"
      ],
      "text/plain": [
       "Quantum object: dims = [[4], [4]], shape = (4, 4), type = oper, isherm = False\n",
       "Qobj data =\n",
       "[[-0.41614684  1.          0.          0.        ]\n",
       " [ 0.         -0.41614684  1.41421356  0.        ]\n",
       " [ 0.          0.         -0.41614684  1.73205081]\n",
       " [ 0.          0.          0.         -0.41614684]]"
      ]
     },
     "execution_count": 7,
     "metadata": {},
     "output_type": "execute_result"
    }
   ],
   "source": [
    "# td_Qobj with array based coeff, log timescale\n",
    "Log_array_td_Qobj = td_Qobj([destroy(N),[qeye(N),np.cos(2*tlistlog)]],tlist=tlistlog)\n",
    "Log_array_td_Qobj(1)"
   ]
  },
  {
   "cell_type": "code",
   "execution_count": 8,
   "metadata": {},
   "outputs": [
    {
     "data": {
      "text/latex": [
       "Quantum object: dims = [[4], [4]], shape = (4, 4), type = oper, isherm = False\\begin{equation*}\\left(\\begin{array}{*{11}c}-0.416 & 1.0 & 0.0 & 0.0\\\\0.0 & -0.416 & 1.414 & 0.0\\\\0.0 & 0.0 & -0.416 & 1.732\\\\0.0 & 0.0 & 0.0 & -0.416\\\\\\end{array}\\right)\\end{equation*}"
      ],
      "text/plain": [
       "Quantum object: dims = [[4], [4]], shape = (4, 4), type = oper, isherm = False\n",
       "Qobj data =\n",
       "[[-0.41614684  1.          0.          0.        ]\n",
       " [ 0.         -0.41614684  1.41421356  0.        ]\n",
       " [ 0.          0.         -0.41614684  1.73205081]\n",
       " [ 0.          0.          0.         -0.41614684]]"
      ]
     },
     "execution_count": 8,
     "metadata": {},
     "output_type": "execute_result"
    }
   ],
   "source": [
    "# Reference\n",
    "destroy(N) + qeye(N) * np.cos(2)"
   ]
  },
  {
   "cell_type": "markdown",
   "metadata": {},
   "source": [
    "## Mathematic\n",
    "- addition (td_Qobj, Qobj)\n",
    "- substraction (td_Qobj, Qobj)\n",
    "- product (Qobj, scalar)\n",
    "- division (scalar)\n",
    "\n",
    "The examples are done with function type coefficients only, but work for any type of coefficient.  \n",
    "Mixing coefficients type is possible, however this support would be removed if td_Qobj * td_Qobj is to be implemented."
   ]
  },
  {
   "cell_type": "code",
   "execution_count": 9,
   "metadata": {
    "collapsed": true
   },
   "outputs": [],
   "source": [
    "# Build objects\n",
    "o1 = td_Qobj([qeye(N),[destroy(N),sin_w]],args={\"w\":2})\n",
    "o2 = td_Qobj([qeye(N),[create(N),cos_w]],args={\"w\":2})\n",
    "t = np.random.random()*10"
   ]
  },
  {
   "cell_type": "code",
   "execution_count": 10,
   "metadata": {},
   "outputs": [
    {
     "name": "stdout",
     "output_type": "stream",
     "text": [
      "True\n",
      "True\n",
      "True\n",
      "True\n"
     ]
    }
   ],
   "source": [
    "o3 = o1 + o2\n",
    "print(o3(t) == o1(t) + o2(t))\n",
    "o3 = o1 - o2\n",
    "print(o3(t) == o1(t) - o2(t))\n",
    "o3 = o1 + destroy(N)\n",
    "print(o3(t) == o1(t) + destroy(N))\n",
    "o3 = o1 - destroy(N)\n",
    "print(o3(t) == o1(t) - destroy(N))"
   ]
  },
  {
   "cell_type": "code",
   "execution_count": 11,
   "metadata": {},
   "outputs": [
    {
     "name": "stdout",
     "output_type": "stream",
     "text": [
      "True\n",
      "True\n",
      "True\n"
     ]
    }
   ],
   "source": [
    "o3 = o1 * destroy(N)\n",
    "print(o3(t) == o1(t) * destroy(N))\n",
    "o3 = o1 * (0.5+0.5j)\n",
    "print(o3(t) == o1(t) * (0.5+0.5j))\n",
    "o3 = o1 / (0.5+0.5j)\n",
    "print(o3(t) == o1(t) / (0.5+0.5j))"
   ]
  },
  {
   "cell_type": "code",
   "execution_count": 12,
   "metadata": {},
   "outputs": [
    {
     "name": "stdout",
     "output_type": "stream",
     "text": [
      "True\n"
     ]
    }
   ],
   "source": [
    "o1 = td_Qobj([qeye(N),[destroy(N),sin_w]],args={\"w\":2})\n",
    "o2 = td_Qobj([qeye(N),[create(N),cos_w]],args={\"w\":2})\n",
    "o1 += o2\n",
    "print(o1(t) == (qeye(N)*2 + destroy(N)*sin_w(t,args={\"w\":2}) + create(N)*cos_w(t,args={\"w\":2})))"
   ]
  },
  {
   "cell_type": "code",
   "execution_count": 13,
   "metadata": {},
   "outputs": [
    {
     "name": "stdout",
     "output_type": "stream",
     "text": [
      "True\n",
      "True\n"
     ]
    }
   ],
   "source": [
    "o1 = td_Qobj([qeye(N),[destroy(N),sin_w]],args={\"w\":2})\n",
    "o2 = td_Qobj([qeye(N),[create(N),cos_w]],args={\"w\":2})\n",
    "o1 -= o2\n",
    "print(o1(t) == (destroy(N)*sin_w(t,args={\"w\":2}) - create(N)*cos_w(t,args={\"w\":2})))\n",
    "\n",
    "o1 = td_Qobj([qeye(N),[destroy(N),sin_w]],args={\"w\":2})\n",
    "o2 = td_Qobj([qeye(N),[create(N),cos_w]],args={\"w\":2})\n",
    "o1 += -o2\n",
    "print(o1(t) == (destroy(N)*sin_w(t,args={\"w\":2}) - create(N)*cos_w(t,args={\"w\":2})))"
   ]
  },
  {
   "cell_type": "code",
   "execution_count": 14,
   "metadata": {},
   "outputs": [
    {
     "name": "stdout",
     "output_type": "stream",
     "text": [
      "True\n"
     ]
    }
   ],
   "source": [
    "o1 = td_Qobj([qeye(N),[destroy(N),sin_w]],args={\"w\":2})\n",
    "o1 *= destroy(N)\n",
    "print(o1(t) == (destroy(N) + destroy(N)*destroy(N)*sin_w(t,args={\"w\":2})))"
   ]
  },
  {
   "cell_type": "markdown",
   "metadata": {},
   "source": [
    "## Unitary operations: \n",
    "- conj\n",
    "- dag \n",
    "- trans \n",
    "- norm: td_Qobj.dag * td_Qobj"
   ]
  },
  {
   "cell_type": "code",
   "execution_count": 15,
   "metadata": {},
   "outputs": [
    {
     "name": "stdout",
     "output_type": "stream",
     "text": [
      "True\n",
      "True\n",
      "True\n",
      "True\n",
      "True\n",
      "True\n"
     ]
    }
   ],
   "source": [
    "o_real = td_Qobj([qeye(N),[destroy(N), sin_w]], args={\"w\":2})\n",
    "o_cplx = td_Qobj([qeye(N),[create(N), cos_w]], args={\"w\":-1j})\n",
    "\n",
    "print(o_real(t).trans() == o_real.trans()(t))\n",
    "print(o_real(t).conj() == o_real.conj()(t))\n",
    "print(o_real(t).dag() == o_real.dag()(t))\n",
    "\n",
    "print(o_cplx(t).trans() == o_cplx.trans()(t))\n",
    "print(o_cplx(t).conj() == o_cplx.conj()(t))\n",
    "print(o_cplx(t).dag() == o_cplx.dag()(t))"
   ]
  },
  {
   "cell_type": "code",
   "execution_count": 16,
   "metadata": {},
   "outputs": [
    {
     "name": "stdout",
     "output_type": "stream",
     "text": [
      "True\n",
      "True\n",
      "True\n",
      "True\n"
     ]
    }
   ],
   "source": [
    "# the operator norm correspond to c.dag * c. \n",
    "# Can only be used with td_qobj composed of one qobj.\n",
    "td_cplx_f0 = td_qobj.td_Qobj([qeye(N)])\n",
    "td_cplx_f1 = td_qobj.td_Qobj([[destroy(N)*create(N),sin_w]], args={'w':2.})\n",
    "td_cplx_f2 = td_qobj.td_Qobj([[destroy(N),cos_w]], args={'w':2.})\n",
    "td_cplx_f3 = td_qobj.td_Qobj([[create(N),1j*np.sin(tlist)]], tlist=tlist)\n",
    "\n",
    "print(td_cplx_f0(t).dag()*td_cplx_f0(t) == td_cplx_f0.norm()(t))\n",
    "print(td_cplx_f1(t).dag()*td_cplx_f1(t) == td_cplx_f1.norm()(t))\n",
    "print(td_cplx_f2(t).dag()*td_cplx_f2(t) == td_cplx_f2.norm()(t))\n",
    "print(td_cplx_f3(t).dag()*td_cplx_f3(t) == td_cplx_f3.norm()(t))"
   ]
  },
  {
   "cell_type": "markdown",
   "metadata": {},
   "source": [
    "## Liouvillian and lindblad dissipator, to use in solver\n",
    "\n",
    "Functions in qutip.superoperator can be used for tqQobj."
   ]
  },
  {
   "cell_type": "code",
   "execution_count": 17,
   "metadata": {},
   "outputs": [
    {
     "data": {
      "text/plain": [
       "True"
      ]
     },
     "execution_count": 17,
     "metadata": {},
     "output_type": "execute_result"
    }
   ],
   "source": [
    "td_L = liouvillian(H=func_td_Qobj)\n",
    "L = liouvillian(H=func_td_Qobj(t))\n",
    "td_L(t) == L"
   ]
  },
  {
   "cell_type": "code",
   "execution_count": 18,
   "metadata": {},
   "outputs": [
    {
     "name": "stdout",
     "output_type": "stream",
     "text": [
      "True\n"
     ]
    }
   ],
   "source": [
    "td_cplx_f0 = td_qobj.td_Qobj([qeye(N)])\n",
    "td_cplx_f1 = td_qobj.td_Qobj([[destroy(N)*create(N),sin_w]], args={'w':2.})\n",
    "\n",
    "td_L = liouvillian(H=func_td_Qobj,c_ops=[td_cplx_f0,td_cplx_f1])\n",
    "L = liouvillian(H=func_td_Qobj(t),c_ops=[td_cplx_f0(t),td_cplx_f1(t)])\n",
    "print(td_L(t) == L)"
   ]
  },
  {
   "cell_type": "code",
   "execution_count": 19,
   "metadata": {},
   "outputs": [
    {
     "name": "stdout",
     "output_type": "stream",
     "text": [
      "True\n"
     ]
    }
   ],
   "source": [
    "td_P = spre(td_cplx_f1)\n",
    "P = spre(td_cplx_f1(t))\n",
    "print(td_P(t) == P)"
   ]
  },
  {
   "cell_type": "markdown",
   "metadata": {},
   "source": [
    "## Getting the list back for the object"
   ]
  },
  {
   "cell_type": "code",
   "execution_count": 20,
   "metadata": {
    "scrolled": true
   },
   "outputs": [
    {
     "name": "stdout",
     "output_type": "stream",
     "text": [
      "[Quantum object: dims = [[[4], [4]], [[4], [4]]], shape = (16, 16), type = super, isherm = False\n",
      "Qobj data =\n",
      "[[ 0.+0.j          0.-1.j          0.+0.j          0.+0.j          0.+0.j\n",
      "   0.+0.j          0.+0.j          0.+0.j          0.+0.j          0.+0.j\n",
      "   0.+0.j          0.+0.j          0.+0.j          0.+0.j          0.+0.j\n",
      "   0.+0.j        ]\n",
      " [ 0.+0.j          0.+0.j          0.-1.41421356j  0.+0.j          0.+0.j\n",
      "   0.+0.j          0.+0.j          0.+0.j          0.+0.j          0.+0.j\n",
      "   0.+0.j          0.+0.j          0.+0.j          0.+0.j          0.+0.j\n",
      "   0.+0.j        ]\n",
      " [ 0.+0.j          0.+0.j          0.+0.j          0.-1.73205081j  0.+0.j\n",
      "   0.+0.j          0.+0.j          0.+0.j          0.+0.j          0.+0.j\n",
      "   0.+0.j          0.+0.j          0.+0.j          0.+0.j          0.+0.j\n",
      "   0.+0.j        ]\n",
      " [ 0.+0.j          0.+0.j          0.+0.j          0.+0.j          0.+0.j\n",
      "   0.+0.j          0.+0.j          0.+0.j          0.+0.j          0.+0.j\n",
      "   0.+0.j          0.+0.j          0.+0.j          0.+0.j          0.+0.j\n",
      "   0.+0.j        ]\n",
      " [ 0.+1.j          0.+0.j          0.+0.j          0.+0.j          0.+0.j\n",
      "   0.-1.j          0.+0.j          0.+0.j          0.+0.j          0.+0.j\n",
      "   0.+0.j          0.+0.j          0.+0.j          0.+0.j          0.+0.j\n",
      "   0.+0.j        ]\n",
      " [ 0.+0.j          0.+1.j          0.+0.j          0.+0.j          0.+0.j\n",
      "   0.+0.j          0.-1.41421356j  0.+0.j          0.+0.j          0.+0.j\n",
      "   0.+0.j          0.+0.j          0.+0.j          0.+0.j          0.+0.j\n",
      "   0.+0.j        ]\n",
      " [ 0.+0.j          0.+0.j          0.+1.j          0.+0.j          0.+0.j\n",
      "   0.+0.j          0.+0.j          0.-1.73205081j  0.+0.j          0.+0.j\n",
      "   0.+0.j          0.+0.j          0.+0.j          0.+0.j          0.+0.j\n",
      "   0.+0.j        ]\n",
      " [ 0.+0.j          0.+0.j          0.+0.j          0.+1.j          0.+0.j\n",
      "   0.+0.j          0.+0.j          0.+0.j          0.+0.j          0.+0.j\n",
      "   0.+0.j          0.+0.j          0.+0.j          0.+0.j          0.+0.j\n",
      "   0.+0.j        ]\n",
      " [ 0.+0.j          0.+0.j          0.+0.j          0.+0.j          0.+1.41421356j\n",
      "   0.+0.j          0.+0.j          0.+0.j          0.+0.j          0.-1.j\n",
      "   0.+0.j          0.+0.j          0.+0.j          0.+0.j          0.+0.j\n",
      "   0.+0.j        ]\n",
      " [ 0.+0.j          0.+0.j          0.+0.j          0.+0.j          0.+0.j\n",
      "   0.+1.41421356j  0.+0.j          0.+0.j          0.+0.j          0.+0.j\n",
      "   0.-1.41421356j  0.+0.j          0.+0.j          0.+0.j          0.+0.j\n",
      "   0.+0.j        ]\n",
      " [ 0.+0.j          0.+0.j          0.+0.j          0.+0.j          0.+0.j\n",
      "   0.+0.j          0.+1.41421356j  0.+0.j          0.+0.j          0.+0.j\n",
      "   0.+0.j          0.-1.73205081j  0.+0.j          0.+0.j          0.+0.j\n",
      "   0.+0.j        ]\n",
      " [ 0.+0.j          0.+0.j          0.+0.j          0.+0.j          0.+0.j\n",
      "   0.+0.j          0.+0.j          0.+1.41421356j  0.+0.j          0.+0.j\n",
      "   0.+0.j          0.+0.j          0.+0.j          0.+0.j          0.+0.j\n",
      "   0.+0.j        ]\n",
      " [ 0.+0.j          0.+0.j          0.+0.j          0.+0.j          0.+0.j\n",
      "   0.+0.j          0.+0.j          0.+0.j          0.+1.73205081j  0.+0.j\n",
      "   0.+0.j          0.+0.j          0.+0.j          0.-1.j          0.+0.j\n",
      "   0.+0.j        ]\n",
      " [ 0.+0.j          0.+0.j          0.+0.j          0.+0.j          0.+0.j\n",
      "   0.+0.j          0.+0.j          0.+0.j          0.+0.j          0.+1.73205081j\n",
      "   0.+0.j          0.+0.j          0.+0.j          0.+0.j          0.-1.41421356j\n",
      "   0.+0.j        ]\n",
      " [ 0.+0.j          0.+0.j          0.+0.j          0.+0.j          0.+0.j\n",
      "   0.+0.j          0.+0.j          0.+0.j          0.+0.j          0.+0.j\n",
      "   0.+1.73205081j  0.+0.j          0.+0.j          0.+0.j          0.+0.j\n",
      "   0.-1.73205081j]\n",
      " [ 0.+0.j          0.+0.j          0.+0.j          0.+0.j          0.+0.j\n",
      "   0.+0.j          0.+0.j          0.+0.j          0.+0.j          0.+0.j\n",
      "   0.+0.j          0.+1.73205081j  0.+0.j          0.+0.j          0.+0.j\n",
      "   0.+0.j        ]], [Quantum object: dims = [[[4], [4]], [[4], [4]]], shape = (16, 16), type = super, isherm = True\n",
      "Qobj data =\n",
      "[[ 0.  0.  0.  0.  0.  0.  0.  0.  0.  0.  0.  0.  0.  0.  0.  0.]\n",
      " [ 0.  0.  0.  0.  0.  0.  0.  0.  0.  0.  0.  0.  0.  0.  0.  0.]\n",
      " [ 0.  0.  0.  0.  0.  0.  0.  0.  0.  0.  0.  0.  0.  0.  0.  0.]\n",
      " [ 0.  0.  0.  0.  0.  0.  0.  0.  0.  0.  0.  0.  0.  0.  0.  0.]\n",
      " [ 0.  0.  0.  0.  0.  0.  0.  0.  0.  0.  0.  0.  0.  0.  0.  0.]\n",
      " [ 0.  0.  0.  0.  0.  0.  0.  0.  0.  0.  0.  0.  0.  0.  0.  0.]\n",
      " [ 0.  0.  0.  0.  0.  0.  0.  0.  0.  0.  0.  0.  0.  0.  0.  0.]\n",
      " [ 0.  0.  0.  0.  0.  0.  0.  0.  0.  0.  0.  0.  0.  0.  0.  0.]\n",
      " [ 0.  0.  0.  0.  0.  0.  0.  0.  0.  0.  0.  0.  0.  0.  0.  0.]\n",
      " [ 0.  0.  0.  0.  0.  0.  0.  0.  0.  0.  0.  0.  0.  0.  0.  0.]\n",
      " [ 0.  0.  0.  0.  0.  0.  0.  0.  0.  0.  0.  0.  0.  0.  0.  0.]\n",
      " [ 0.  0.  0.  0.  0.  0.  0.  0.  0.  0.  0.  0.  0.  0.  0.  0.]\n",
      " [ 0.  0.  0.  0.  0.  0.  0.  0.  0.  0.  0.  0.  0.  0.  0.  0.]\n",
      " [ 0.  0.  0.  0.  0.  0.  0.  0.  0.  0.  0.  0.  0.  0.  0.  0.]\n",
      " [ 0.  0.  0.  0.  0.  0.  0.  0.  0.  0.  0.  0.  0.  0.  0.  0.]\n",
      " [ 0.  0.  0.  0.  0.  0.  0.  0.  0.  0.  0.  0.  0.  0.  0.  0.]], <function cos_w at 0x7f92af8996a8>], [Quantum object: dims = [[[4], [4]], [[4], [4]]], shape = (16, 16), type = super, isherm = True\n",
      "Qobj data =\n",
      "[[ 0.   0.   0.   0.   0.   0.   0.   0.   0.   0.   0.   0.   0.   0.   0.\n",
      "   0. ]\n",
      " [ 0.  -0.5  0.   0.   0.   0.   0.   0.   0.   0.   0.   0.   0.   0.   0.\n",
      "   0. ]\n",
      " [ 0.   0.  -2.   0.   0.   0.   0.   0.   0.   0.   0.   0.   0.   0.   0.\n",
      "   0. ]\n",
      " [ 0.   0.   0.  -0.5  0.   0.   0.   0.   0.   0.   0.   0.   0.   0.   0.\n",
      "   0. ]\n",
      " [ 0.   0.   0.   0.  -0.5  0.   0.   0.   0.   0.   0.   0.   0.   0.   0.\n",
      "   0. ]\n",
      " [ 0.   0.   0.   0.   0.   0.   0.   0.   0.   0.   0.   0.   0.   0.   0.\n",
      "   0. ]\n",
      " [ 0.   0.   0.   0.   0.   0.  -0.5  0.   0.   0.   0.   0.   0.   0.   0.\n",
      "   0. ]\n",
      " [ 0.   0.   0.   0.   0.   0.   0.  -2.   0.   0.   0.   0.   0.   0.   0.\n",
      "   0. ]\n",
      " [ 0.   0.   0.   0.   0.   0.   0.   0.  -2.   0.   0.   0.   0.   0.   0.\n",
      "   0. ]\n",
      " [ 0.   0.   0.   0.   0.   0.   0.   0.   0.  -0.5  0.   0.   0.   0.   0.\n",
      "   0. ]\n",
      " [ 0.   0.   0.   0.   0.   0.   0.   0.   0.   0.   0.   0.   0.   0.   0.\n",
      "   0. ]\n",
      " [ 0.   0.   0.   0.   0.   0.   0.   0.   0.   0.   0.  -4.5  0.   0.   0.\n",
      "   0. ]\n",
      " [ 0.   0.   0.   0.   0.   0.   0.   0.   0.   0.   0.   0.  -0.5  0.   0.\n",
      "   0. ]\n",
      " [ 0.   0.   0.   0.   0.   0.   0.   0.   0.   0.   0.   0.   0.  -2.   0.\n",
      "   0. ]\n",
      " [ 0.   0.   0.   0.   0.   0.   0.   0.   0.   0.   0.   0.   0.   0.  -4.5\n",
      "   0. ]\n",
      " [ 0.   0.   0.   0.   0.   0.   0.   0.   0.   0.   0.   0.   0.   0.   0.\n",
      "   0. ]], <qutip.td_qobj._norm2 object at 0x7f92acaf85f8>]]\n"
     ]
    }
   ],
   "source": [
    "print(td_L.to_list())"
   ]
  },
  {
   "cell_type": "markdown",
   "metadata": {
    "collapsed": true
   },
   "source": [
    "## Arguments modification\n",
    "\n",
    "To change the args: td_qobj.arguments(new_args)\n",
    "\n",
    "Call with other arguments without changing them: td_qobj.with_args(t, new_args)\n"
   ]
  },
  {
   "cell_type": "code",
   "execution_count": 21,
   "metadata": {},
   "outputs": [
    {
     "name": "stdout",
     "output_type": "stream",
     "text": [
      "True\n",
      "True\n",
      "True\n"
     ]
    }
   ],
   "source": [
    "def Args(t, args):\n",
    "    return args['w']\n",
    "td_args = td_qobj.td_Qobj([qeye(N), Args],args={'w':1.}) \n",
    "print(td_args(t) == qeye(N))\n",
    "td_args.arguments({'w':2.})\n",
    "print(td_args(t) == qeye(N)*2)\n",
    "print(td_args.with_args(t,{'w':3.}) == qeye(N)*3)"
   ]
  },
  {
   "cell_type": "markdown",
   "metadata": {},
   "source": [
    "When summing td_Qobj that have an arguments in common, each part keep their individual argument until the object's arguments is updated (method arguments)."
   ]
  },
  {
   "cell_type": "code",
   "execution_count": 22,
   "metadata": {
    "scrolled": true
   },
   "outputs": [
    {
     "name": "stdout",
     "output_type": "stream",
     "text": [
      "False\n",
      "True\n",
      "True\n",
      "True\n"
     ]
    }
   ],
   "source": [
    "td_args_1 = td_qobj.td_Qobj([qeye(N), [destroy(N), cos_w]],args={'w':1.})\n",
    "td_args_2 = td_qobj.td_Qobj([qeye(N), [destroy(N), cos_w]],args={'w':2.})\n",
    "td_str_sum = td_args_1 + td_args_2\n",
    "\n",
    "# The sum operator remember the frequence of each part\n",
    "print(td_str_sum(t) == 2*td_args_1(t)) \n",
    "print(td_str_sum(t) == td_args_1(t) + td_args_2(t)) \n",
    "# The sum operator remember the frequence of each part\n",
    "print(td_str_sum.with_args(t, {'w':1}) == 2*td_args_1(t))# Updating the arguments affect each part.\n",
    "td_str_sum.arguments({'w':1.})\n",
    "print(td_str_sum(t) == 2*td_args_1(t))"
   ]
  },
  {
   "cell_type": "markdown",
   "metadata": {},
   "source": [
    "## Other"
   ]
  },
  {
   "cell_type": "code",
   "execution_count": 23,
   "metadata": {},
   "outputs": [
    {
     "data": {
      "text/plain": [
       "<4x4 sparse matrix of type '<class 'numpy.complex128'>'\n",
       "\twith 7 stored elements in Compressed Sparse Row format>"
      ]
     },
     "execution_count": 23,
     "metadata": {},
     "output_type": "execute_result"
    }
   ],
   "source": [
    "# Obtain the sparce matrix at a time t instead of a Qobj\n",
    "str_td_Qobj(1, data=True)"
   ]
  },
  {
   "cell_type": "code",
   "execution_count": 24,
   "metadata": {},
   "outputs": [
    {
     "name": "stdout",
     "output_type": "stream",
     "text": [
      "True\n",
      "False\n"
     ]
    }
   ],
   "source": [
    "# Test is the td_Qobj does depend on time\n",
    "print(cte_td_Qobj.const)\n",
    "print(str_td_Qobj.const)"
   ]
  },
  {
   "cell_type": "code",
   "execution_count": 25,
   "metadata": {},
   "outputs": [
    {
     "name": "stdout",
     "output_type": "stream",
     "text": [
      "[[4], [4]]\n",
      "(4, 4)\n",
      "True\n",
      "Quantum object: dims = [[4], [4]], shape = (4, 4), type = oper, isherm = True\n",
      "Qobj data =\n",
      "[[ 0.  0.  0.  0.]\n",
      " [ 0.  0.  0.  0.]\n",
      " [ 0.  0.  0.  0.]\n",
      " [ 0.  0.  0.  0.]]\n"
     ]
    }
   ],
   "source": [
    "# Obtain the size, shape, oper flag etc:\n",
    "# The td_Qobj.cte always exist and contain the constant part of the td_Qobj\n",
    "# It can be used to get the shape, etc. since the td_Qobj do not directly have them.\n",
    "td_cplx_f1 = td_qobj.td_Qobj([[destroy(N)*create(N),sin_w]], args={'w':2.})\n",
    "print(td_cplx_f1.cte.dims)\n",
    "print(td_cplx_f1.cte.shape)\n",
    "print(td_cplx_f1.cte.isoper)\n",
    "print(td_cplx_f1.cte)"
   ]
  },
  {
   "cell_type": "code",
   "execution_count": 26,
   "metadata": {},
   "outputs": [
    {
     "data": {
      "text/latex": [
       "Quantum object: dims = [[4], [4]], shape = (4, 4), type = oper, isherm = True\\begin{equation*}\\left(\\begin{array}{*{11}c}1.0 & 0.0 & 0.0 & 0.0\\\\0.0 & 1.0 & 0.0 & 0.0\\\\0.0 & 0.0 & 1.0 & 0.0\\\\0.0 & 0.0 & 0.0 & 1.0\\\\\\end{array}\\right)\\end{equation*}"
      ],
      "text/plain": [
       "Quantum object: dims = [[4], [4]], shape = (4, 4), type = oper, isherm = True\n",
       "Qobj data =\n",
       "[[ 1.  0.  0.  0.]\n",
       " [ 0.  1.  0.  0.]\n",
       " [ 0.  0.  1.  0.]\n",
       " [ 0.  0.  0.  1.]]"
      ]
     },
     "execution_count": 26,
     "metadata": {},
     "output_type": "execute_result"
    }
   ],
   "source": [
    "# Creating a copy\n",
    "str_td_Qobj_2 = str_td_Qobj.copy()\n",
    "str_td_Qobj_2 += 1\n",
    "str_td_Qobj_2(1) -  str_td_Qobj(1)"
   ]
  }
 ],
 "metadata": {
  "kernelspec": {
   "display_name": "Python 3",
   "language": "python",
   "name": "python3"
  },
  "language_info": {
   "codemirror_mode": {
    "name": "ipython",
    "version": 3
   },
   "file_extension": ".py",
   "mimetype": "text/x-python",
   "name": "python",
   "nbconvert_exporter": "python",
   "pygments_lexer": "ipython3",
   "version": "3.6.3"
  }
 },
 "nbformat": 4,
 "nbformat_minor": 2
}
