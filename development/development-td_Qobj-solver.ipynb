{
 "cells": [
  {
   "cell_type": "markdown",
   "metadata": {},
   "source": [
    "## td_Qobj \"advanced\" methods\n",
    "\n",
    "Feature of td_Qobj made for solver.\n"
   ]
  },
  {
   "cell_type": "code",
   "execution_count": 1,
   "metadata": {
    "collapsed": true
   },
   "outputs": [],
   "source": [
    "import qutip as qt\n",
    "import numpy as np\n",
    "from qutip import td_qobj\n",
    "%load_ext cython"
   ]
  },
  {
   "cell_type": "code",
   "execution_count": 2,
   "metadata": {
    "collapsed": true
   },
   "outputs": [],
   "source": [
    "N = 5\n",
    "destroy, create, Id = qt.destroy(N), qt.create(N), qt.qeye(N)\n",
    "def exp_i(t,args):\n",
    "    return np.exp(-1j*t)\n",
    "def cos_w(t,args):\n",
    "    return np.cos(args[\"w\"]*t)\n",
    "tlist = np.linspace(0,10,10000)\n",
    "tlistlog = np.logspace(-3,1,10000)\n",
    "\n",
    "# state vector as np array\n",
    "vec = np.arange(N)*.5+.5j\n",
    "vec_super = np.arange(N**2)*.5+.5j\n",
    "\n",
    "# Construct td_Qobj of all type\n",
    "td_cte1 = td_qobj.td_Qobj(Id)\n",
    "td_cte2 = td_qobj.td_Qobj([Id])\n",
    "\n",
    "td_func = td_qobj.td_Qobj([Id,[create,exp_i],[destroy,cos_w]],args={\"w\":2})\n",
    "td_str = td_qobj.td_Qobj([Id,[create,\"exp(-1j*t)\"],[destroy,\"cos(w*t)\"]],args={'w':2.})\n",
    "td_array = td_qobj.td_Qobj([Id,[create,np.exp(-1j*tlist)],[destroy,np.cos(2*tlist)]],tlist=tlist)\n",
    "td_array_log = td_qobj.td_Qobj([Id,[create,np.exp(-1j*tlistlog)],[destroy,np.cos(2*tlistlog)]],tlist=tlistlog)\n",
    "\n",
    "td_super = qt.liouvillian(td_func, c_ops=td_cte1)"
   ]
  },
  {
   "cell_type": "markdown",
   "metadata": {
    "scrolled": true
   },
   "source": [
    "## Product and expectation value\n",
    "\n",
    "td_Qobj.rhs(t,state) = spmv(td_Qobj(t), state)  \n",
    "td_Qobj.expect(t, state, real) = cy_expect_psi/cy_expect_rho_vec  (td_Qobj(t), state, real)"
   ]
  },
  {
   "cell_type": "code",
   "execution_count": 3,
   "metadata": {
    "collapsed": true
   },
   "outputs": [],
   "source": [
    "from qutip.cy.spmatfuncs import spmv, cy_expect_rho_vec, cy_expect_psi"
   ]
  },
  {
   "cell_type": "code",
   "execution_count": 4,
   "metadata": {},
   "outputs": [
    {
     "data": {
      "text/plain": [
       "array([ True,  True,  True,  True,  True], dtype=bool)"
      ]
     },
     "execution_count": 4,
     "metadata": {},
     "output_type": "execute_result"
    }
   ],
   "source": [
    "spmv(td_func(2).data, vec) == td_func.rhs(2,vec)"
   ]
  },
  {
   "cell_type": "code",
   "execution_count": 5,
   "metadata": {},
   "outputs": [
    {
     "data": {
      "text/plain": [
       "True"
      ]
     },
     "execution_count": 5,
     "metadata": {},
     "output_type": "execute_result"
    }
   ],
   "source": [
    "cy_expect_psi(td_str(2).data, vec, 0) == td_str.expect(2, vec, 0)"
   ]
  },
  {
   "cell_type": "code",
   "execution_count": 6,
   "metadata": {},
   "outputs": [
    {
     "data": {
      "text/plain": [
       "True"
      ]
     },
     "execution_count": 6,
     "metadata": {},
     "output_type": "execute_result"
    }
   ],
   "source": [
    "cy_expect_rho_vec(td_super(2).data, vec_super, 0) == td_super.expect(2, vec_super, 0)"
   ]
  },
  {
   "cell_type": "markdown",
   "metadata": {},
   "source": [
    "## Function with state\n",
    "\n",
    "For the solvers which have the option \"with_state\"\n",
    "\n",
    "the td_Qobj can take coefficient function with the signature:\n",
    "\n",
    "**def coeff(t, psi. args)**\n",
    "\n",
    "and must be called with\n",
    "td_Qobj.with_state(self, t, psi, args={}, data=False)\n",
    "\n",
    "**The normal call, rhs and expect will create and error.**\n",
    "**Mixing with normal function coefficient will cause error.**\n",
    "Mixing with string or array will work for now."
   ]
  },
  {
   "cell_type": "code",
   "execution_count": 7,
   "metadata": {
    "collapsed": true
   },
   "outputs": [],
   "source": [
    "def coeff_state(t, psi, args):\n",
    "    return np.max(psi)*args[\"w\"]\n",
    "td_state = td_qobj.td_Qobj([Id, [destroy, coeff_state]],args={\"w\":1})"
   ]
  },
  {
   "cell_type": "code",
   "execution_count": 8,
   "metadata": {},
   "outputs": [
    {
     "data": {
      "text/latex": [
       "Quantum object: dims = [[5], [5]], shape = (5, 5), type = oper, isherm = False\\begin{equation*}\\left(\\begin{array}{*{11}c}1.0 & (2.0+0.500j) & 0.0 & 0.0 & 0.0\\\\0.0 & 1.0 & (2.828+0.707j) & 0.0 & 0.0\\\\0.0 & 0.0 & 1.0 & (3.464+0.866j) & 0.0\\\\0.0 & 0.0 & 0.0 & 1.0 & (4.0+1.0j)\\\\0.0 & 0.0 & 0.0 & 0.0 & 1.0\\\\\\end{array}\\right)\\end{equation*}"
      ],
      "text/plain": [
       "Quantum object: dims = [[5], [5]], shape = (5, 5), type = oper, isherm = False\n",
       "Qobj data =\n",
       "[[ 1.00000000+0.j          2.00000000+0.5j         0.00000000+0.j\n",
       "   0.00000000+0.j          0.00000000+0.j        ]\n",
       " [ 0.00000000+0.j          1.00000000+0.j          2.82842712+0.70710678j\n",
       "   0.00000000+0.j          0.00000000+0.j        ]\n",
       " [ 0.00000000+0.j          0.00000000+0.j          1.00000000+0.j\n",
       "   3.46410162+0.8660254j   0.00000000+0.j        ]\n",
       " [ 0.00000000+0.j          0.00000000+0.j          0.00000000+0.j\n",
       "   1.00000000+0.j          4.00000000+1.j        ]\n",
       " [ 0.00000000+0.j          0.00000000+0.j          0.00000000+0.j\n",
       "   0.00000000+0.j          1.00000000+0.j        ]]"
      ]
     },
     "execution_count": 8,
     "metadata": {},
     "output_type": "execute_result"
    }
   ],
   "source": [
    "td_state.with_state(2,vec)"
   ]
  },
  {
   "cell_type": "markdown",
   "metadata": {},
   "source": [
    "## Cython object and \"Compiling\"\n",
    "\n",
    "There is a cython version of the td_qobj for fast call:  \n",
    "- qutip.cy.td_qobj_cy.cy_qobj  \n",
    "- qutip.cy.td_qobj_cy.cy_cte_qobj  \n",
    "- qutip.cy.td_qobj_cy.cy_td_qobj  \n",
    "\n",
    "The cython is created when the \"compile\" method is created.\n",
    "The cython object contain fast version of the call, expect and rhs (spmv) methods."
   ]
  },
  {
   "cell_type": "code",
   "execution_count": 9,
   "metadata": {},
   "outputs": [
    {
     "name": "stdout",
     "output_type": "stream",
     "text": [
      "Before compilation\n",
      "132 µs ± 611 ns per loop (mean ± std. dev. of 7 runs, 10000 loops each)\n",
      "145 µs ± 307 ns per loop (mean ± std. dev. of 7 runs, 10000 loops each)\n",
      "148 µs ± 7.4 µs per loop (mean ± std. dev. of 7 runs, 10000 loops each)\n",
      "After compilation\n",
      "14.7 µs ± 201 ns per loop (mean ± std. dev. of 7 runs, 100000 loops each)\n",
      "9.02 µs ± 48.1 ns per loop (mean ± std. dev. of 7 runs, 100000 loops each)\n",
      "9.84 µs ± 166 ns per loop (mean ± std. dev. of 7 runs, 100000 loops each)\n"
     ]
    }
   ],
   "source": [
    "td_str.compiled = False\n",
    "print(\"Before compilation\")\n",
    "%timeit td_str(2, data=True)\n",
    "%timeit td_str.rhs(2,vec)\n",
    "%timeit td_str.expect(2,vec,0)\n",
    "td_str.compile()\n",
    "print(\"After compilation\")\n",
    "%timeit td_str(2, data=True)\n",
    "%timeit td_str.rhs(2,vec)\n",
    "%timeit td_str.expect(2,vec,0)"
   ]
  },
  {
   "cell_type": "markdown",
   "metadata": {},
   "source": [
    "## Remove intermediary compilation\n",
    "\n",
    "When a string based td_qobj is created, each one of the strings coefficients are compiled to functions.\n",
    "When it is \"compiled\", then the string coefficient are recompiled so they all fit in one function called from cython.\n",
    "\n",
    "My expected workflow is   \n",
    "- Create the td_qobjs \n",
    "- Do the math( \\*, +, dag, ...)\n",
    "- compile\n",
    "- Use  \n",
    "\n",
    "Then the first compilation is a waste of time. So at the creation, there is the option not to compile the strings coefficient:  \n",
    "td_Qobj(..., raw_str=True)\n"
   ]
  },
  {
   "cell_type": "code",
   "execution_count": 10,
   "metadata": {},
   "outputs": [
    {
     "name": "stdout",
     "output_type": "stream",
     "text": [
      "Quantum object: dims = [[5], [5]], shape = (5, 5), type = oper, isherm = False\n",
      "Qobj data =\n",
      "[[ 1.  0.  0.  0.  0.]\n",
      " [ 0.  1.  0.  0.  0.]\n",
      " [ 0.  0.  1.  0.  0.]\n",
      " [ 0.  0.  0.  1.  0.]\n",
      " [ 0.  0.  0.  0.  1.]]\n",
      "Quantum object: dims = [[5], [5]], shape = (5, 5), type = oper, isherm = False\n",
      "Qobj data =\n",
      "[[ 1.         -0.41614684  0.          0.          0.        ]\n",
      " [ 0.84147098  1.         -0.5885205   0.          0.        ]\n",
      " [ 0.          1.19001968  1.         -0.72078746  0.        ]\n",
      " [ 0.          0.          1.4574705   1.         -0.83229367]\n",
      " [ 0.          0.          0.          1.68294197  1.        ]]\n"
     ]
    }
   ],
   "source": [
    "td_o = td_qobj.td_Qobj([Id,[create,\"sin(t)\"],[destroy,\"cos(w*t)\"]], args={'w':2.}, raw_str=True)\n",
    "print(td_o(1.))\n",
    "td_o.compile()\n",
    "print(td_o(1.))"
   ]
  },
  {
   "cell_type": "markdown",
   "metadata": {},
   "source": [
    "## apply\n",
    "Pass a function ( Qobj, \\*args, \\*\\*kwargs) -> Qobj to act on each component of the td_qobj.\n",
    "\n",
    "Will only be mathematicaly valid if the transformation is linear."
   ]
  },
  {
   "cell_type": "code",
   "execution_count": 11,
   "metadata": {},
   "outputs": [
    {
     "name": "stdout",
     "output_type": "stream",
     "text": [
      "True\n",
      "True\n"
     ]
    }
   ],
   "source": [
    "def multiply(qobj,b,factor = 3.):\n",
    "    return qobj*b*factor\n",
    "\n",
    "print(td_func.apply(multiply,2)(2) == td_func(2)*6)\n",
    "print(td_func.apply(multiply,2,factor=2)(2) == td_func(2)*4)"
   ]
  },
  {
   "cell_type": "markdown",
   "metadata": {},
   "source": [
    "## apply_decorator\n",
    "Transform the functions containing the time dependence using a decorator.\n",
    "\n",
    "The decorator must return a function of (t, **kwargs).\n",
    "\n",
    "Do not modify the constant part (the contant part do not have a function f(t) = 1).\n"
   ]
  },
  {
   "cell_type": "code",
   "execution_count": 12,
   "metadata": {},
   "outputs": [
    {
     "name": "stdout",
     "output_type": "stream",
     "text": [
      "True\n",
      "True\n"
     ]
    }
   ],
   "source": [
    "def rescale_time_and_scale(f_original, time_scale, factor=2.):\n",
    "    def f(t, *args, **kwargs):\n",
    "        return f_original(time_scale*t, *args, **kwargs)*factor\n",
    "    return f\n",
    "\n",
    "print(td_func.apply_decorator(rescale_time_and_scale,2)(2) == td_func(4)*2-Id)\n",
    "print(td_func.apply_decorator(rescale_time_and_scale,3,factor=3)(2) == \n",
    "      td_func(6)*3.0 - 2*Id)"
   ]
  },
  {
   "cell_type": "markdown",
   "metadata": {},
   "source": [
    "td_Qobj based on string and np.array are changed to a function then the decorator is applied. There are option so that the type of coefficient stay unchanged: \n",
    "\n",
    "    str_mod : change the string -> str_mod[0] + str + str_mod[1]\n",
    "    \n",
    "    inplace_np : modify the array  (array[i] = decorator(lambda v: v)(array[i]))\n",
    "         *any modification that rescale the time will not work properly\n",
    "        \n",
    "Decorator can cause problem when used in parallel. (function cannot be pickled error)"
   ]
  },
  {
   "cell_type": "code",
   "execution_count": 13,
   "metadata": {},
   "outputs": [
    {
     "name": "stdout",
     "output_type": "stream",
     "text": [
      "True\n",
      "<function square_f.<locals>.f at 0x7fa5c7a97730>\n",
      "True\n",
      "str not updated: exp(-1j*t)\n",
      "True\n",
      "str  updated: (exp(-1j*t))**2\n",
      "True\n",
      "array not updated: [ 1.00000000-0.j          0.99999950-0.0010001j   0.99999800-0.0020002j\n",
      " ..., -0.84015800+0.54234171j -0.83961518+0.54318168j\n",
      " -0.83907153+0.54402111j]\n",
      "True\n",
      "array  updated: [ 1.00000000-0.j          0.99999800-0.0020002j   0.99999200-0.00400039j\n",
      " ...,  0.41173093-0.91130546j  0.40990732-0.91212718j\n",
      "  0.40808206-0.91294525j]\n"
     ]
    }
   ],
   "source": [
    "td_func_1 = td_qobj.td_Qobj([[create,exp_i]],args={\"w\":2})\n",
    "td_str_1 = td_qobj.td_Qobj([[create,\"exp(-1j*t)\"]],args={'w':2.})\n",
    "td_array_1 = td_qobj.td_Qobj([[create,np.exp(-1j*tlist)]],tlist=tlist)\n",
    "\n",
    "def square_qobj(qobj):\n",
    "    return qobj*qobj\n",
    "\n",
    "def square_f(f_original):\n",
    "    def f(t, *args, **kwargs):\n",
    "        return f_original(t, *args, **kwargs)**2\n",
    "    return f\n",
    "\n",
    "t1 = td_func_1.apply(square_qobj).apply_decorator(square_f)\n",
    "print(t1(2) == td_func_1(2)*td_func_1(2))\n",
    "print((t1.ops[0][2]))\n",
    "\n",
    "t1 = td_str_1.apply(square_qobj).apply_decorator(square_f)\n",
    "print(t1(2) == td_str_1(2)*td_str_1(2))\n",
    "print(\"str not updated:\", (t1.ops[0][2]))\n",
    "\n",
    "t1 = td_str_1.apply(square_qobj).apply_decorator(square_f, str_mod=[\"(\",\")**2\"])\n",
    "print(t1(2) == td_str_1(2)*td_str_1(2))\n",
    "print(\"str  updated:\",(t1.ops[0][2]))\n",
    "\n",
    "t1 = td_array_1.apply(square_qobj).apply_decorator(square_f)\n",
    "print(t1(2) == td_array_1(2)*td_array_1(2))\n",
    "print(\"array not updated:\",(t1.ops[0][2]))\n",
    "\n",
    "t1 = td_array_1.apply(square_qobj).apply_decorator(square_f, inplace_np=1)\n",
    "print(t1(2) == td_array_1(2)*td_array_1(2))\n",
    "print(\"array  updated:\",(t1.ops[0][2]))"
   ]
  },
  {
   "cell_type": "markdown",
   "metadata": {},
   "source": [
    "## Removing redundant Qobj\n",
    "\n",
    "When multiple components of the td_Qobj are made from the same Qobj, you can unite them with the \"compress\" method.\n",
    "It is only done with the same form of time dependance:\n"
   ]
  },
  {
   "cell_type": "code",
   "execution_count": 14,
   "metadata": {
    "collapsed": true
   },
   "outputs": [],
   "source": [
    "small = qt.destroy(2)\n",
    "def f1(t,args):\n",
    "    return np.sin(t)\n",
    "def f2(t,args):\n",
    "    return np.cos(args[\"w\"]*t)\n",
    "def f3(t,args):\n",
    "    return np.sin(args[\"w\"]*t)\n",
    "def f4(t,args):\n",
    "    return np.cos(t)"
   ]
  },
  {
   "cell_type": "code",
   "execution_count": 15,
   "metadata": {},
   "outputs": [
    {
     "name": "stdout",
     "output_type": "stream",
     "text": [
      "[Quantum object: dims = [[2], [2]], shape = (2, 2), type = oper, isherm = True\n",
      "Qobj data =\n",
      "[[ 1.  0.]\n",
      " [ 0.  1.]], [Quantum object: dims = [[2], [2]], shape = (2, 2), type = oper, isherm = False\n",
      "Qobj data =\n",
      "[[ 0.  1.]\n",
      " [ 0.  0.]], '(((sin(t)) + (cos(w*t))) + (sin(w*t))) + (cos(t))']]\n",
      "1\n",
      "True\n",
      "1\n",
      "True\n",
      "1\n",
      "True\n",
      "3\n",
      "True\n"
     ]
    }
   ],
   "source": [
    "td_redoundance = td_qobj.td_Qobj([qt.qeye(2),[small,\"sin(t)\"],[small,\"cos(w*t)\"],[small,\"sin(w*t)\"],\n",
    "                                  [small,\"cos(t)\"]],args={'w':2.})\n",
    "td_redoundance1 = td_qobj.td_Qobj([qt.qeye(2),[small,\"sin(t)\"],[small,\"cos(w*t)\"],[small,\"sin(w*t)\"],\n",
    "                                   [small,\"cos(t)\"]],args={'w':2.})\n",
    "td_redoundance2 = td_qobj.td_Qobj([qt.qeye(2),[small,f1],[small,f2],[small,f3],[small,f4]],args={'w':2.})\n",
    "td_redoundance3 = td_qobj.td_Qobj([qt.qeye(2),[small,np.sin(tlist)],[small,np.cos(2*tlist)],\n",
    "                                   [small,np.sin(2*tlist)],[small,np.cos(tlist)]],tlist=tlist)\n",
    "td_redoundance4 = td_qobj.td_Qobj([qt.qeye(2),[small,f1],[small,\"cos(w*t)\"],\n",
    "                                   [small,np.sin(2*tlist)],[small,\"cos(t)\"]],args={'w':2.},tlist=tlist)\n",
    "\n",
    "td_redoundance1.compress()\n",
    "print(td_redoundance1.to_list())\n",
    "print(len(td_redoundance1.ops))\n",
    "print(td_redoundance(1.) == td_redoundance1(1.))\n",
    "td_redoundance2.compress()\n",
    "print(len(td_redoundance2.ops))\n",
    "print(td_redoundance(1.) == td_redoundance2(1.))\n",
    "td_redoundance3.compress()\n",
    "print(len(td_redoundance3.ops))\n",
    "print(td_redoundance(1.) == td_redoundance3(1.))\n",
    "td_redoundance4.compress()\n",
    "print(len(td_redoundance4.ops))\n",
    "print(td_redoundance(1.) == td_redoundance4(1.))"
   ]
  },
  {
   "cell_type": "markdown",
   "metadata": {},
   "source": [
    "## Compilation and arguments\n",
    "When compiling, the local arguments of each part are lost.  \n",
    "\n",
    "This may cause a problem since the behaviour is not the same than addition when not compiled.\n",
    "\n",
    "Calling the method 'argument' update the arguments event after compilation (and do not need recompilation)."
   ]
  },
  {
   "cell_type": "code",
   "execution_count": 16,
   "metadata": {},
   "outputs": [
    {
     "name": "stdout",
     "output_type": "stream",
     "text": [
      "False\n",
      "True\n",
      "True\n"
     ]
    }
   ],
   "source": [
    "td_args_1 = td_qobj.td_Qobj([Id, [destroy, \"cos(w*t)\"]],args={'w':1.})\n",
    "td_args_2 = td_qobj.td_Qobj([Id, [destroy, \"cos(w*t)\"]],args={'w':2.})\n",
    "td_str_sum = td_args_1 + td_args_2\n",
    "before_compile = td_str_sum(2)\n",
    "td_str_sum_compiled_call = td_str_sum.get_compiled_call()\n",
    "print(before_compile == td_str_sum_compiled_call(2.))\n",
    "# Once comiled, the call use the compiled function\n",
    "# Which args is used once compiled is not fixed. ()\n",
    "print(td_str_sum(2) == td_str_sum_compiled_call(2.)) \n",
    "td_str_sum.arguments({'w':3})\n",
    "td_str_sum_compiled_call = td_str_sum.get_compiled_call()\n",
    "td_args_3 = td_qobj.td_Qobj([Id, [destroy, \"cos(w*t)\"]],args={'w':3.})*2\n",
    "print(td_args_3(2.) == td_str_sum_compiled_call(2.))"
   ]
  },
  {
   "cell_type": "code",
   "execution_count": 17,
   "metadata": {},
   "outputs": [
    {
     "name": "stdout",
     "output_type": "stream",
     "text": [
      "False\n",
      "True\n",
      "True\n"
     ]
    }
   ],
   "source": [
    "td_args_1 = td_qobj.td_Qobj([Id, [destroy, cos_w]],args={'w':1.})\n",
    "td_args_2 = td_qobj.td_Qobj([Id, [destroy, cos_w]],args={'w':2.})\n",
    "td_str_sum = td_args_1 + td_args_2\n",
    "before_compile = td_str_sum(2)\n",
    "td_str_sum_compiled_call = td_str_sum.get_compiled_call()\n",
    "print(before_compile == td_str_sum_compiled_call(2.))\n",
    "# Once comiled, the call use the compiled function\n",
    "# Which args is used once compiled is not fixed. ()\n",
    "print(td_str_sum(2) == td_str_sum_compiled_call(2.)) \n",
    "td_str_sum.arguments({'w':3})\n",
    "td_str_sum_compiled_call = td_str_sum.get_compiled_call()\n",
    "td_args_3 = td_qobj.td_Qobj([Id, [destroy, \"cos(w*t)\"]],args={'w':3.})*2\n",
    "print(td_args_3(2.) == td_str_sum_compiled_call(2.))"
   ]
  },
  {
   "cell_type": "markdown",
   "metadata": {},
   "source": [
    "## cimport cython object\n",
    "\n",
    "The cython object can be 'cimported'.\n",
    "```\n",
    "There are 3 objects:\n",
    "    cy_td_qobj  : time dependent cases\n",
    "    cy_cte_qobj : constant cases\n",
    "    cy_qobj     : general objects, both others cases inherit from it\n",
    "```\n",
    "\n",
    "```\n",
    "cdef class cy_qobj:\n",
    "    cdef void _rhs_mat(self, double t, complex* vec, complex* out)\n",
    "    cdef complex _expect_mat(self, double t, complex* vec, int isherm)\n",
    "    cdef complex _expect_mat_super(self, double t, complex* vec, int isherm)\n",
    "```"
   ]
  },
  {
   "cell_type": "code",
   "execution_count": 18,
   "metadata": {
    "collapsed": true
   },
   "outputs": [],
   "source": [
    "%%cython\n",
    "from qutip.cy.td_qobj_cy cimport cy_td_qobj, cy_cte_qobj, cy_qobj\n",
    "cimport numpy as np\n",
    "\n",
    "\n",
    "def rhs_call_from_cy(cy_qobj qobj, double t, np.ndarray[complex, ndim=1] vec, np.ndarray[complex, ndim=1] out):\n",
    "    qobj._rhs_mat(t,&vec[0],&out[0])\n",
    "    \n",
    "    \n",
    "def expect_call_from_cy(cy_qobj qobj, double t, np.ndarray[complex, ndim=1] vec, int isherm):\n",
    "    return qobj._expect_mat(t,&vec[0],isherm)\n",
    "    \n",
    "    \n",
    "def rhs_cdef_timing(cy_qobj qobj, double t, np.ndarray[complex, ndim=1] vec, np.ndarray[complex, ndim=1] out):\n",
    "    cdef int i\n",
    "    for i in range(10000):\n",
    "        qobj._rhs_mat(t,&vec[0],&out[0])\n",
    "\n",
    "        \n",
    "def expect_cdef_timing(cy_qobj qobj, double t, np.ndarray[complex, ndim=1] vec, int isherm):\n",
    "    cdef complex aa = 0.\n",
    "    cdef int i\n",
    "    for i in range(10000):\n",
    "        aa = qobj._expect_mat(t, &vec[0], isherm)\n",
    "    return aa\n",
    "\n",
    "def rhs_def_timing(qobj, double t, np.ndarray[complex, ndim=1] vec, complex[::1] out):\n",
    "    cdef int i\n",
    "    for i in range(10000):\n",
    "        out = qobj.rhs(t,vec)\n",
    "        \n",
    "def expect_def_timing(qobj, double t, np.ndarray[complex, ndim=1] vec, int isherm):\n",
    "    cdef complex aa = 0.\n",
    "    cdef int i\n",
    "    for i in range(10000):\n",
    "        aa = qobj.expect(t, vec, isherm)\n",
    "    return aa\n"
   ]
  },
  {
   "cell_type": "code",
   "execution_count": 19,
   "metadata": {},
   "outputs": [
    {
     "name": "stdout",
     "output_type": "stream",
     "text": [
      "0j\n",
      "61.6 ms ± 1.93 ms per loop (mean ± std. dev. of 7 runs, 10 loops each)\n",
      "49.7 ms ± 236 µs per loop (mean ± std. dev. of 7 runs, 10 loops each)\n"
     ]
    }
   ],
   "source": [
    "td_str.compile()\n",
    "print(expect_call_from_cy(td_str.compiled_Qobj, 2, vec, 0) - td_str.expect(2,vec,0))\n",
    "%timeit expect_def_timing(td_str.compiled_Qobj, 2, vec, 0)\n",
    "%timeit expect_cdef_timing(td_str.compiled_Qobj, 2, vec, 0)"
   ]
  },
  {
   "cell_type": "code",
   "execution_count": 20,
   "metadata": {},
   "outputs": [
    {
     "name": "stdout",
     "output_type": "stream",
     "text": [
      "[0j, 0j, 0j, 0j, 0j]\n",
      "65.1 ms ± 390 µs per loop (mean ± std. dev. of 7 runs, 10 loops each)\n",
      "25.3 ms ± 96.3 µs per loop (mean ± std. dev. of 7 runs, 10 loops each)\n"
     ]
    }
   ],
   "source": [
    "out = np.zeros(N,dtype=np.complex128)\n",
    "rhs_call_from_cy(td_str.compiled_Qobj, 2, vec, out)\n",
    "print( [a - b for a,b in zip(out, td_str.rhs(2,vec))])\n",
    "%timeit rhs_def_timing(td_str.compiled_Qobj, 2, vec, out)\n",
    "%timeit rhs_cdef_timing(td_str.compiled_Qobj, 2, vec, out)"
   ]
  },
  {
   "cell_type": "code",
   "execution_count": 21,
   "metadata": {},
   "outputs": [
    {
     "name": "stdout",
     "output_type": "stream",
     "text": [
      "[0j, 0j, 0j, 0j, 0j]\n",
      "38.1 ms ± 160 µs per loop (mean ± std. dev. of 7 runs, 10 loops each)\n",
      "207 µs ± 2.83 µs per loop (mean ± std. dev. of 7 runs, 1000 loops each)\n"
     ]
    }
   ],
   "source": [
    "td_cte = td_qobj.td_Qobj([Id])\n",
    "td_cte.compile()\n",
    "out = np.zeros(N,dtype=np.complex128)\n",
    "rhs_call_from_cy(td_cte.compiled_Qobj, 2, vec, out)\n",
    "print( [a - b for a,b in zip(out, td_cte.rhs(2,vec))])\n",
    "%timeit rhs_def_timing(td_cte.compiled_Qobj, 2, vec, out)\n",
    "%timeit rhs_cdef_timing(td_cte.compiled_Qobj, 2, vec, out)"
   ]
  },
  {
   "cell_type": "markdown",
   "metadata": {},
   "source": [
    "# Compiled string code\n",
    "\n"
   ]
  },
  {
   "cell_type": "code",
   "execution_count": 22,
   "metadata": {},
   "outputs": [
    {
     "name": "stdout",
     "output_type": "stream",
     "text": [
      "\n",
      "# This file is generated automatically by QuTiP.\n",
      "\n",
      "import numpy as np\n",
      "cimport numpy as np\n",
      "cimport cython\n",
      "np.import_array()\n",
      "cdef extern from \"numpy/arrayobject.h\" nogil:\n",
      "    void PyDataMem_NEW_ZEROED(size_t size, size_t elsize)\n",
      "    void PyArray_ENABLEFLAGS(np.ndarray arr, int flags)\n",
      "from qutip.cy.spmatfuncs cimport spmvpy\n",
      "from qutip.cy.inter cimport spline_complex_t_second, spline_complex_cte_second\n",
      "from qutip.cy.inter cimport spline_float_t_second, spline_float_cte_second\n",
      "from qutip.cy.math cimport erf\n",
      "cdef double pi = 3.14159265358979323\n",
      "\n",
      "cdef extern from \"Python.h\":\n",
      "    object PyLong_FromVoidPtr(void *)\n",
      "    void* PyLong_AsVoidPtr(object)\n",
      "\n",
      "include '/home/eric/anaconda3/lib/python3.6/site-packages/qutip-4.3.0.dev0+ec9b31a-py3.6-linux-x86_64.egg/qutip/cy/complex_math.pxi'\n",
      "\n",
      "cdef class coeff_args:\n",
      "    cdef double w\n",
      "\n",
      "    def set_array_imag(self, int N, double[::1] tlist, complex[::1] array, complex[::1] spline):\n",
      "        if N == -1:\n",
      "            pass\n",
      "        else:\n",
      "            raise Exception('Bad classification imag')\n",
      "\n",
      "    def set_array_real(self, int N, double[::1] tlist, double[::1] array, double[::1] spline):\n",
      "        if N ==-1:\n",
      "            pass\n",
      "        else:\n",
      "            raise Exception('Bad classification real')\n",
      "\n",
      "    def set_args(self, args):\n",
      "        self.w = args['w']\n",
      "\n",
      "cdef coeff_args np_obj = coeff_args()\n",
      "\n",
      "cdef void coeff(double t, complex* out):\n",
      "    cdef double w = np_obj.w\n",
      "\n",
      "    out[0] = exp(-1j*t)\n",
      "    out[1] = cos(w*t)\n",
      "\n",
      "\n",
      "def get_ptr(set_np_obj = False):\n",
      "    if set_np_obj:\n",
      "        return np_obj\n",
      "    else:\n",
      "        return PyLong_FromVoidPtr(<void*> coeff)\n",
      "\n"
     ]
    }
   ],
   "source": [
    "print(td_str.compile(code=True))"
   ]
  },
  {
   "cell_type": "code",
   "execution_count": null,
   "metadata": {
    "collapsed": true
   },
   "outputs": [],
   "source": []
  }
 ],
 "metadata": {
  "kernelspec": {
   "display_name": "Python 3",
   "language": "python",
   "name": "python3"
  },
  "language_info": {
   "codemirror_mode": {
    "name": "ipython",
    "version": 3
   },
   "file_extension": ".py",
   "mimetype": "text/x-python",
   "name": "python",
   "nbconvert_exporter": "python",
   "pygments_lexer": "ipython3",
   "version": "3.6.3"
  }
 },
 "nbformat": 4,
 "nbformat_minor": 2
}
