{
 "cells": [
  {
   "cell_type": "markdown",
   "metadata": {},
   "source": [
    "# Timing for QobjEvo\n",
    "\n",
    "Made by Eric Giguere"
   ]
  },
  {
   "cell_type": "code",
   "execution_count": 1,
   "metadata": {},
   "outputs": [],
   "source": [
    "import qutip as qt\n",
    "import numpy as np\n",
    "from qutip import QobjEvo\n",
    "%load_ext cython"
   ]
  },
  {
   "cell_type": "code",
   "execution_count": 2,
   "metadata": {},
   "outputs": [],
   "source": [
    "N = 10\n",
    "destroy, create, Id = qt.destroy(N), qt.create(N), qt.qeye(N)\n",
    "def exp_i(t,args):\n",
    "    return np.exp(-1j*t)\n",
    "def cos_w(t,args):\n",
    "    return np.cos(args[\"w\"]*t)\n",
    "tlist = np.linspace(0,10,10000)\n",
    "tlistlog = np.logspace(-3,1,10000)\n",
    "\n",
    "# state vector as np array\n",
    "vec = np.arange(N)*.5+.5j\n",
    "vec_super = np.arange(N**2)*.5+.5j\n",
    "mat_c = (np.arange(N**2)*.5+.5j).reshape((10,10))\n",
    "mat_f = np.asfortranarray(mat_c*1.)\n",
    "\n",
    "# Construct QobjEvo of all type\n",
    "td_cte1 = QobjEvo(Id)\n",
    "td_cte2 = QobjEvo([Id])\n",
    "\n",
    "td_func = QobjEvo([Id,[create,exp_i],[destroy,cos_w]],args={\"w\":2})\n",
    "td_str = QobjEvo([Id,[create,\"exp(-1j*t)\"],[destroy,\"cos(w*t)\"]],args={'w':2.})\n",
    "td_array = QobjEvo([Id,[create,np.exp(-1j*tlist)],[destroy,np.cos(2*tlist)]],tlist=tlist)\n",
    "td_array_log = QobjEvo([Id,[create,np.exp(-1j*tlistlog)],[destroy,np.cos(2*tlistlog)]],tlist=tlistlog)\n",
    "\n",
    "td_super = qt.liouvillian(td_func, c_ops=td_cte1)"
   ]
  },
  {
   "cell_type": "markdown",
   "metadata": {},
   "source": [
    "## Timing: call\n",
    "\n",
    "Timing check for all coeff formats.  \n",
    "Once compiled, the cython method is called by the usual method."
   ]
  },
  {
   "cell_type": "code",
   "execution_count": 3,
   "metadata": {},
   "outputs": [
    {
     "name": "stdout",
     "output_type": "stream",
     "text": [
      "Time for cte\n",
      "58.3 µs ± 1.6 µs per loop (mean ± std. dev. of 7 runs, 10000 loops each)\n",
      "14.1 µs ± 82.6 ns per loop (mean ± std. dev. of 7 runs, 100000 loops each)\n",
      "Time for compiled cte\n",
      "55 µs ± 439 ns per loop (mean ± std. dev. of 7 runs, 10000 loops each)\n",
      "14.1 µs ± 104 ns per loop (mean ± std. dev. of 7 runs, 100000 loops each)\n"
     ]
    }
   ],
   "source": [
    "# The compiled version build the scipy object from the sparce matrix if not used with data=True\n",
    "print(\"Time constant QobjEvo\")\n",
    "td_cte1.compiled = False\n",
    "%timeit td_cte1(2)\n",
    "%timeit td_cte1(2, data=True)\n",
    "print(\"Time for compiled constant QobjEvo\")\n",
    "td_cte1.compile()\n",
    "%timeit td_cte1(2)\n",
    "%timeit td_cte1(2, data=True)"
   ]
  },
  {
   "cell_type": "code",
   "execution_count": 4,
   "metadata": {},
   "outputs": [
    {
     "name": "stdout",
     "output_type": "stream",
     "text": [
      "Time for str\n",
      "650 µs ± 8.53 µs per loop (mean ± std. dev. of 7 runs, 1000 loops each)\n",
      "227 µs ± 6.36 µs per loop (mean ± std. dev. of 7 runs, 1000 loops each)\n",
      "74.2 µs ± 884 ns per loop (mean ± std. dev. of 7 runs, 10000 loops each)\n",
      "15.4 µs ± 133 ns per loop (mean ± std. dev. of 7 runs, 100000 loops each)\n"
     ]
    }
   ],
   "source": [
    "print(\"Time for str based coefficients\")\n",
    "td_str.compiled = False\n",
    "%timeit td_str(2)\n",
    "%timeit td_str(2, data=True)\n",
    "td_str.compile()\n",
    "%timeit td_str(2)\n",
    "%timeit td_str(2, data=True)"
   ]
  },
  {
   "cell_type": "code",
   "execution_count": 5,
   "metadata": {},
   "outputs": [
    {
     "name": "stdout",
     "output_type": "stream",
     "text": [
      "Time for function\n",
      "598 µs ± 5 µs per loop (mean ± std. dev. of 7 runs, 1000 loops each)\n",
      "178 µs ± 2.04 µs per loop (mean ± std. dev. of 7 runs, 10000 loops each)\n",
      "83.3 µs ± 321 ns per loop (mean ± std. dev. of 7 runs, 10000 loops each)\n",
      "22.3 µs ± 273 ns per loop (mean ± std. dev. of 7 runs, 10000 loops each)\n"
     ]
    }
   ],
   "source": [
    "print(\"Time for function based coefficients\")\n",
    "td_func.compiled = False\n",
    "%timeit td_func(2)\n",
    "%timeit td_func(2, data=True)\n",
    "td_func.compile()\n",
    "%timeit td_func(2)\n",
    "%timeit td_func(2, data=True)"
   ]
  },
  {
   "cell_type": "code",
   "execution_count": 6,
   "metadata": {},
   "outputs": [
    {
     "name": "stdout",
     "output_type": "stream",
     "text": [
      "Time for array\n",
      "653 µs ± 15.1 µs per loop (mean ± std. dev. of 7 runs, 1000 loops each)\n",
      "233 µs ± 10.9 µs per loop (mean ± std. dev. of 7 runs, 1000 loops each)\n",
      "74.3 µs ± 438 ns per loop (mean ± std. dev. of 7 runs, 10000 loops each)\n",
      "15.4 µs ± 65.1 ns per loop (mean ± std. dev. of 7 runs, 100000 loops each)\n"
     ]
    }
   ],
   "source": [
    "print(\"Time for array based coefficients\")\n",
    "td_array.compiled = False\n",
    "%timeit td_array(2)\n",
    "%timeit td_array(2, data=True)\n",
    "td_array.compile()\n",
    "%timeit td_array(2)\n",
    "%timeit td_array(2, data=True)"
   ]
  },
  {
   "cell_type": "code",
   "execution_count": 7,
   "metadata": {},
   "outputs": [
    {
     "name": "stdout",
     "output_type": "stream",
     "text": [
      "Time for array with variable time step\n",
      "635 µs ± 2.62 µs per loop (mean ± std. dev. of 7 runs, 1000 loops each)\n",
      "232 µs ± 11.9 µs per loop (mean ± std. dev. of 7 runs, 1000 loops each)\n",
      "72.7 µs ± 247 ns per loop (mean ± std. dev. of 7 runs, 10000 loops each)\n",
      "15.2 µs ± 69.8 ns per loop (mean ± std. dev. of 7 runs, 100000 loops each)\n"
     ]
    }
   ],
   "source": [
    "print(\"Time for array based coefficients with variable time step\")\n",
    "td_array_log.compiled = False\n",
    "%timeit td_array_log(2)\n",
    "%timeit td_array_log(2, data=True)\n",
    "td_array_log.compile()\n",
    "%timeit td_array_log(2)\n",
    "%timeit td_array_log(2, data=True)"
   ]
  },
  {
   "cell_type": "markdown",
   "metadata": {},
   "source": [
    "## Timing: multiplication with a vector\n",
    "The QobjEvo at t x vec, used by most solver"
   ]
  },
  {
   "cell_type": "code",
   "execution_count": 8,
   "metadata": {},
   "outputs": [
    {
     "name": "stdout",
     "output_type": "stream",
     "text": [
      "timing for rhs: cte\n",
      "24.5 µs ± 531 ns per loop (mean ± std. dev. of 7 runs, 10000 loops each)\n",
      "6.85 µs ± 63.3 ns per loop (mean ± std. dev. of 7 runs, 100000 loops each)\n",
      "29.9 µs ± 484 ns per loop (mean ± std. dev. of 7 runs, 10000 loops each)\n",
      "7.43 µs ± 87.9 ns per loop (mean ± std. dev. of 7 runs, 100000 loops each)\n"
     ]
    }
   ],
   "source": [
    "print(\"timing for rhs: constant QobjEvo\")\n",
    "td_cte1.compiled = False\n",
    "%timeit qt.cy.spmv(td_cte1(2, data=True), vec)\n",
    "%timeit qt.cy.spmv(Id.data, vec)\n",
    "%timeit td_cte1.mul_vec(2,vec)\n",
    "td_cte1.compile()\n",
    "%timeit td_cte1.mul_vec(2,vec)"
   ]
  },
  {
   "cell_type": "code",
   "execution_count": 9,
   "metadata": {},
   "outputs": [
    {
     "name": "stdout",
     "output_type": "stream",
     "text": [
      "timing for rhs: str\n",
      "238 µs ± 1.71 µs per loop (mean ± std. dev. of 7 runs, 1000 loops each)\n",
      "246 µs ± 8.64 µs per loop (mean ± std. dev. of 7 runs, 1000 loops each)\n",
      "9.88 µs ± 30.7 ns per loop (mean ± std. dev. of 7 runs, 100000 loops each)\n"
     ]
    }
   ],
   "source": [
    "print(\"timing for rhs: str based coefficients\")\n",
    "td_str.compiled = False\n",
    "%timeit qt.cy.spmv(td_str(2, data=True), vec)\n",
    "%timeit td_str.mul_vec(2,vec)\n",
    "td_str.compile()\n",
    "%timeit td_str.mul_vec(2,vec)"
   ]
  },
  {
   "cell_type": "code",
   "execution_count": 10,
   "metadata": {},
   "outputs": [
    {
     "name": "stdout",
     "output_type": "stream",
     "text": [
      "timing for rhs: cte\n",
      "188 µs ± 1.16 µs per loop (mean ± std. dev. of 7 runs, 10000 loops each)\n",
      "194 µs ± 1.21 µs per loop (mean ± std. dev. of 7 runs, 10000 loops each)\n",
      "16.7 µs ± 79.5 ns per loop (mean ± std. dev. of 7 runs, 100000 loops each)\n"
     ]
    }
   ],
   "source": [
    "print(\"timing for rhs: function based coefficients\")\n",
    "td_func.compiled = False\n",
    "%timeit qt.cy.spmv(td_func(2, data=True), vec)\n",
    "%timeit td_func.mul_vec(2,vec)\n",
    "td_func.compile()\n",
    "%timeit td_func.mul_vec(2,vec)"
   ]
  },
  {
   "cell_type": "code",
   "execution_count": 11,
   "metadata": {},
   "outputs": [
    {
     "name": "stdout",
     "output_type": "stream",
     "text": [
      "timing for rhs: cte\n",
      "238 µs ± 7.72 µs per loop (mean ± std. dev. of 7 runs, 1000 loops each)\n",
      "243 µs ± 7.1 µs per loop (mean ± std. dev. of 7 runs, 1000 loops each)\n",
      "9.96 µs ± 65.1 ns per loop (mean ± std. dev. of 7 runs, 100000 loops each)\n"
     ]
    }
   ],
   "source": [
    "print(\"timing for rhs: array based coefficients\")\n",
    "td_array.compiled = False\n",
    "%timeit qt.cy.spmv(td_array(2, data=True), vec)\n",
    "%timeit td_array.mul_vec(2,vec)\n",
    "td_array.compile()\n",
    "%timeit td_array.mul_vec(2,vec)"
   ]
  },
  {
   "cell_type": "code",
   "execution_count": 12,
   "metadata": {},
   "outputs": [
    {
     "name": "stdout",
     "output_type": "stream",
     "text": [
      "timing for rhs: cte\n",
      "236 µs ± 3.69 µs per loop (mean ± std. dev. of 7 runs, 1000 loops each)\n",
      "256 µs ± 7.73 µs per loop (mean ± std. dev. of 7 runs, 1000 loops each)\n",
      "10.1 µs ± 59.1 ns per loop (mean ± std. dev. of 7 runs, 100000 loops each)\n"
     ]
    }
   ],
   "source": [
    "print(\"timing for rhs: logscaled array based coefficients\")\n",
    "td_array_log.compiled = False\n",
    "%timeit qt.cy.spmv(td_array_log(2, data=True), vec)\n",
    "%timeit td_array_log.mul_vec(2,vec)\n",
    "td_array_log.compile()\n",
    "%timeit td_array_log.mul_vec(2,vec)"
   ]
  },
  {
   "cell_type": "markdown",
   "metadata": {},
   "source": [
    "## Timing: multiplication with matrix\n",
    "QobjEvo at t time same shape matrix, used for operator evolution"
   ]
  },
  {
   "cell_type": "code",
   "execution_count": 13,
   "metadata": {},
   "outputs": [
    {
     "name": "stdout",
     "output_type": "stream",
     "text": [
      "timing for mul_mat: c format sparce\n",
      "242 µs ± 1.12 µs per loop (mean ± std. dev. of 7 runs, 1000 loops each)\n",
      "252 µs ± 2.72 µs per loop (mean ± std. dev. of 7 runs, 1000 loops each)\n",
      "11.9 µs ± 117 ns per loop (mean ± std. dev. of 7 runs, 100000 loops each)\n"
     ]
    }
   ],
   "source": [
    "print(\"timing for mul_mat: c format matrice, sparce QobjEvo\")\n",
    "td_str.compiled = False\n",
    "%timeit td_str(2, data=True) * mat_c\n",
    "%timeit td_str.mul_mat(2,mat_c)\n",
    "td_str.compile()\n",
    "%timeit td_str.mul_mat(2,mat_c)"
   ]
  },
  {
   "cell_type": "code",
   "execution_count": 14,
   "metadata": {},
   "outputs": [
    {
     "name": "stdout",
     "output_type": "stream",
     "text": [
      "timing for mul_mat: c format dense\n",
      "239 µs ± 1.59 µs per loop (mean ± std. dev. of 7 runs, 1000 loops each)\n",
      "254 µs ± 9.27 µs per loop (mean ± std. dev. of 7 runs, 1000 loops each)\n",
      "16.9 µs ± 579 ns per loop (mean ± std. dev. of 7 runs, 100000 loops each)\n"
     ]
    }
   ],
   "source": [
    "print(\"timing for mul_mat: c format matrice, dense QobjEvo\")\n",
    "td_str.compiled = False\n",
    "%timeit td_str(2, data=True) * mat_c\n",
    "%timeit td_str.mul_mat(2,mat_c)\n",
    "td_str.compile(dense=True)\n",
    "%timeit td_str.mul_mat(2,mat_c)"
   ]
  },
  {
   "cell_type": "code",
   "execution_count": 15,
   "metadata": {},
   "outputs": [
    {
     "name": "stdout",
     "output_type": "stream",
     "text": [
      "timing for mul_mat: f format sparce\n",
      "241 µs ± 3.43 µs per loop (mean ± std. dev. of 7 runs, 1000 loops each)\n",
      "260 µs ± 7.5 µs per loop (mean ± std. dev. of 7 runs, 1000 loops each)\n",
      "13.7 µs ± 177 ns per loop (mean ± std. dev. of 7 runs, 100000 loops each)\n"
     ]
    }
   ],
   "source": [
    "print(\"timing for mul_mat: f format matrice, sparce QobjEvo\")\n",
    "td_str.compiled = False\n",
    "%timeit td_str(2, data=True) * mat_f\n",
    "%timeit td_str.mul_mat(2,mat_f)\n",
    "td_str.compile()\n",
    "%timeit td_str.mul_mat(2,mat_f)"
   ]
  },
  {
   "cell_type": "code",
   "execution_count": 16,
   "metadata": {},
   "outputs": [
    {
     "name": "stdout",
     "output_type": "stream",
     "text": [
      "timing for mul_mat: f format dense\n",
      "242 µs ± 2.44 µs per loop (mean ± std. dev. of 7 runs, 1000 loops each)\n",
      "253 µs ± 4.64 µs per loop (mean ± std. dev. of 7 runs, 1000 loops each)\n",
      "15.9 µs ± 122 ns per loop (mean ± std. dev. of 7 runs, 100000 loops each)\n"
     ]
    }
   ],
   "source": [
    "print(\"timing for mul_mat: f format matrice, dense QobjEvo\")\n",
    "td_str.compiled = False\n",
    "%timeit td_str(2, data=True) * mat_f\n",
    "%timeit td_str.mul_mat(2,mat_f)\n",
    "td_str.compile(dense=True)\n",
    "%timeit td_str.mul_mat(2,mat_f)"
   ]
  },
  {
   "cell_type": "markdown",
   "metadata": {},
   "source": [
    "## Timing: expect\n",
    "expectation value of QobjEvo(t) and psi/rho"
   ]
  },
  {
   "cell_type": "code",
   "execution_count": 17,
   "metadata": {},
   "outputs": [
    {
     "name": "stdout",
     "output_type": "stream",
     "text": [
      "timing for expect: cte\n",
      "20.2 µs ± 333 ns per loop (mean ± std. dev. of 7 runs, 10000 loops each)\n",
      "29.8 µs ± 527 ns per loop (mean ± std. dev. of 7 runs, 10000 loops each)\n",
      "9.81 µs ± 38.8 ns per loop (mean ± std. dev. of 7 runs, 100000 loops each)\n"
     ]
    }
   ],
   "source": [
    "print(\"timing for expect: cte QobjEvo\")\n",
    "td_cte1.compiled = False\n",
    "%timeit qt.cy.cy_expect_psi(td_cte1(2, data=True), vec, 0)\n",
    "%timeit td_cte1.expect(2,vec,0)\n",
    "td_cte1.compile()\n",
    "%timeit td_cte1.expect(2,vec,0)"
   ]
  },
  {
   "cell_type": "code",
   "execution_count": 18,
   "metadata": {},
   "outputs": [
    {
     "name": "stdout",
     "output_type": "stream",
     "text": [
      "timing for expect: str\n",
      "234 µs ± 4.36 µs per loop (mean ± std. dev. of 7 runs, 1000 loops each)\n",
      "248 µs ± 7.23 µs per loop (mean ± std. dev. of 7 runs, 1000 loops each)\n",
      "12.7 µs ± 26.8 ns per loop (mean ± std. dev. of 7 runs, 100000 loops each)\n"
     ]
    }
   ],
   "source": [
    "print(\"timing for expect: str based coefficient\")\n",
    "td_str.compiled = False\n",
    "%timeit qt.cy.cy_expect_psi(td_str(2, data=True), vec, 0)\n",
    "%timeit td_str.expect(2,vec,0)\n",
    "td_str.compile()\n",
    "%timeit td_str.expect(2,vec,0)"
   ]
  },
  {
   "cell_type": "code",
   "execution_count": 19,
   "metadata": {},
   "outputs": [
    {
     "name": "stdout",
     "output_type": "stream",
     "text": [
      "timing for expect: func\n",
      "185 µs ± 900 ns per loop (mean ± std. dev. of 7 runs, 10000 loops each)\n",
      "194 µs ± 945 ns per loop (mean ± std. dev. of 7 runs, 10000 loops each)\n",
      "19.5 µs ± 62.9 ns per loop (mean ± std. dev. of 7 runs, 100000 loops each)\n"
     ]
    }
   ],
   "source": [
    "print(\"timing for expect: func based coefficient\")\n",
    "td_func.compiled = False\n",
    "%timeit qt.cy.cy_expect_psi(td_func(2, data=True), vec, 0)\n",
    "%timeit td_func.expect(2,vec,0)\n",
    "td_func.compile()\n",
    "%timeit td_func.expect(2,vec,0)"
   ]
  },
  {
   "cell_type": "code",
   "execution_count": 20,
   "metadata": {},
   "outputs": [
    {
     "name": "stdout",
     "output_type": "stream",
     "text": [
      "timing for expect: array\n",
      "236 µs ± 7.24 µs per loop (mean ± std. dev. of 7 runs, 1000 loops each)\n",
      "244 µs ± 8.32 µs per loop (mean ± std. dev. of 7 runs, 1000 loops each)\n",
      "12.5 µs ± 125 ns per loop (mean ± std. dev. of 7 runs, 100000 loops each)\n"
     ]
    }
   ],
   "source": [
    "print(\"timing for expect: array based coefficient\")\n",
    "td_array.compiled = False\n",
    "%timeit qt.cy.cy_expect_psi(td_array(2, data=True), vec, 0)\n",
    "%timeit td_array.expect(2,vec,0)\n",
    "td_array.compile()\n",
    "%timeit td_array.expect(2,vec,0)"
   ]
  },
  {
   "cell_type": "code",
   "execution_count": 21,
   "metadata": {},
   "outputs": [
    {
     "name": "stdout",
     "output_type": "stream",
     "text": [
      "timing for expect: array logscale\n",
      "233 µs ± 3.35 µs per loop (mean ± std. dev. of 7 runs, 1000 loops each)\n",
      "248 µs ± 9.68 µs per loop (mean ± std. dev. of 7 runs, 1000 loops each)\n",
      "12.6 µs ± 58.7 ns per loop (mean ± std. dev. of 7 runs, 100000 loops each)\n"
     ]
    }
   ],
   "source": [
    "print(\"timing for expect: array logscale based coefficient\")\n",
    "td_array_log.compiled = False\n",
    "%timeit qt.cy.cy_expect_psi(td_array_log(2, data=True), vec, 0)\n",
    "%timeit td_array_log.expect(2,vec,0)\n",
    "td_array_log.compile()\n",
    "%timeit td_array_log.expect(2,vec,0)"
   ]
  },
  {
   "cell_type": "code",
   "execution_count": 22,
   "metadata": {},
   "outputs": [
    {
     "name": "stdout",
     "output_type": "stream",
     "text": [
      "timing for expect_rho: func\n",
      "195 µs ± 2.02 µs per loop (mean ± std. dev. of 7 runs, 1000 loops each)\n",
      "205 µs ± 4.35 µs per loop (mean ± std. dev. of 7 runs, 1000 loops each)\n",
      "16 µs ± 40.9 ns per loop (mean ± std. dev. of 7 runs, 100000 loops each)\n"
     ]
    }
   ],
   "source": [
    "print(\"timing for expect_rho: func based coefficient\")\n",
    "td_super.compiled = False\n",
    "%timeit qt.cy.cy_expect_rho_vec(td_super(2, data=True), vec_super, 0)\n",
    "%timeit td_super.expect(2,vec_super,0)\n",
    "td_super.compile()\n",
    "%timeit td_super.expect(2,vec_super,0)"
   ]
  },
  {
   "cell_type": "markdown",
   "metadata": {},
   "source": [
    "## Timing: call with other arguments"
   ]
  },
  {
   "cell_type": "code",
   "execution_count": 23,
   "metadata": {},
   "outputs": [],
   "source": [
    "td_args = QobjEvo([Id,[destroy,cos_w]],args={\"w\":1})"
   ]
  },
  {
   "cell_type": "code",
   "execution_count": 24,
   "metadata": {},
   "outputs": [
    {
     "name": "stdout",
     "output_type": "stream",
     "text": [
      "timing for function\n",
      "330 µs ± 5.66 µs per loop (mean ± std. dev. of 7 runs, 1000 loops each)\n",
      "322 µs ± 3.11 µs per loop (mean ± std. dev. of 7 runs, 1000 loops each)\n",
      "99.6 µs ± 1.52 µs per loop (mean ± std. dev. of 7 runs, 10000 loops each)\n",
      "95.6 µs ± 257 ns per loop (mean ± std. dev. of 7 runs, 10000 loops each)\n",
      "328 µs ± 4.8 µs per loop (mean ± std. dev. of 7 runs, 1000 loops each)\n",
      "78.2 µs ± 536 ns per loop (mean ± std. dev. of 7 runs, 10000 loops each)\n",
      "99.8 µs ± 1 µs per loop (mean ± std. dev. of 7 runs, 10000 loops each)\n",
      "18 µs ± 103 ns per loop (mean ± std. dev. of 7 runs, 100000 loops each)\n"
     ]
    }
   ],
   "source": [
    "print(\"timing for function based coefficient\")\n",
    "%timeit td_args(2, args={\"w\":2})\n",
    "%timeit td_args(2)\n",
    "%timeit td_args(2, args={\"w\":2}, data=True)\n",
    "%timeit td_args(2, data=True)\n",
    "td_args.compile()\n",
    "%timeit td_args(2, args={\"w\":2})\n",
    "%timeit td_args(2)\n",
    "%timeit td_args(2, args={\"w\":2}, data=True)\n",
    "%timeit td_args(2, data=True)"
   ]
  },
  {
   "cell_type": "code",
   "execution_count": 25,
   "metadata": {},
   "outputs": [],
   "source": [
    "td_args = QobjEvo([Id,[destroy,\"cos(w*t)\"]],args={\"w\":1})"
   ]
  },
  {
   "cell_type": "code",
   "execution_count": 26,
   "metadata": {},
   "outputs": [
    {
     "name": "stdout",
     "output_type": "stream",
     "text": [
      "timing for string\n",
      "359 µs ± 5.1 µs per loop (mean ± std. dev. of 7 runs, 1000 loops each)\n",
      "350 µs ± 3.2 µs per loop (mean ± std. dev. of 7 runs, 1000 loops each)\n",
      "123 µs ± 430 ns per loop (mean ± std. dev. of 7 runs, 10000 loops each)\n",
      "121 µs ± 789 ns per loop (mean ± std. dev. of 7 runs, 10000 loops each)\n",
      "353 µs ± 3.44 µs per loop (mean ± std. dev. of 7 runs, 1000 loops each)\n",
      "72.5 µs ± 212 ns per loop (mean ± std. dev. of 7 runs, 10000 loops each)\n",
      "126 µs ± 2.25 µs per loop (mean ± std. dev. of 7 runs, 10000 loops each)\n",
      "14.7 µs ± 102 ns per loop (mean ± std. dev. of 7 runs, 100000 loops each)\n"
     ]
    }
   ],
   "source": [
    "print(\"timing for string based coefficient\")\n",
    "%timeit td_args(2, args={\"w\":2})\n",
    "%timeit td_args(2)\n",
    "%timeit td_args(2, args={\"w\":2}, data=True)\n",
    "%timeit td_args(2, data=True)\n",
    "td_args.compile()\n",
    "%timeit td_args(2, args={\"w\":2})\n",
    "%timeit td_args(2)\n",
    "%timeit td_args(2, args={\"w\":2}, data=True)\n",
    "%timeit td_args(2, data=True)"
   ]
  },
  {
   "cell_type": "markdown",
   "metadata": {},
   "source": [
    "## Timing: call that depend on state\n"
   ]
  },
  {
   "cell_type": "code",
   "execution_count": 27,
   "metadata": {},
   "outputs": [
    {
     "name": "stdout",
     "output_type": "stream",
     "text": [
      "106 µs ± 557 ns per loop (mean ± std. dev. of 7 runs, 10000 loops each)\n",
      "32.7 µs ± 337 ns per loop (mean ± std. dev. of 7 runs, 10000 loops each)\n"
     ]
    }
   ],
   "source": [
    "def coeff_state(t, args):\n",
    "    return np.max(args[\"vec\"])*args[\"w\"]\n",
    "td_state = QobjEvo([Id, [destroy, coeff_state]],args={\"w\":1,\"vec=vec\":vec})\n",
    "%timeit td_state(2, state=vec, data=True)\n",
    "td_state.compile()\n",
    "%timeit td_state(2, state=vec, data=True)"
   ]
  },
  {
   "cell_type": "code",
   "execution_count": 28,
   "metadata": {},
   "outputs": [
    {
     "name": "stdout",
     "output_type": "stream",
     "text": [
      "128 µs ± 688 ns per loop (mean ± std. dev. of 7 runs, 10000 loops each)\n",
      "30.7 µs ± 106 ns per loop (mean ± std. dev. of 7 runs, 10000 loops each)\n"
     ]
    }
   ],
   "source": [
    "def coeff_state(t, args):\n",
    "    return args[\"e1\"]\n",
    "td_state = QobjEvo([Id, [destroy, coeff_state]], args={\"e1=expect\":qt.qeye(N)})\n",
    "%timeit td_state(2, state=vec, data=True)\n",
    "td_state.compile()\n",
    "%timeit td_state(2, state=vec, data=True)"
   ]
  },
  {
   "cell_type": "code",
   "execution_count": 29,
   "metadata": {},
   "outputs": [
    {
     "name": "stdout",
     "output_type": "stream",
     "text": [
      "148 µs ± 629 ns per loop (mean ± std. dev. of 7 runs, 10000 loops each)\n",
      "30.2 µs ± 741 ns per loop (mean ± std. dev. of 7 runs, 10000 loops each)\n"
     ]
    }
   ],
   "source": [
    "td_state = QobjEvo([Id, [destroy, \"e1\"]], args={\"e1=expect\":qt.qeye(N)})\n",
    "%timeit td_state(2, state=vec, data=True)\n",
    "td_state.compile()\n",
    "%timeit td_state(2, state=vec, data=True)"
   ]
  },
  {
   "cell_type": "code",
   "execution_count": 30,
   "metadata": {},
   "outputs": [
    {
     "name": "stdout",
     "output_type": "stream",
     "text": [
      "\n",
      "QuTiP: Quantum Toolbox in Python\n",
      "Copyright (c) 2011 and later.\n",
      "A. J. Pitchford, P. D. Nation, R. J. Johansson, A. Grimsmo, and C. Granade\n",
      "\n",
      "QuTiP Version:      4.4.0.dev0+42af593a\n",
      "Numpy Version:      1.16.2\n",
      "Scipy Version:      1.2.1\n",
      "Cython Version:     0.29.6\n",
      "Matplotlib Version: 3.0.3\n",
      "Python Version:     3.7.3\n",
      "Number of CPUs:     3\n",
      "BLAS Info:          INTEL MKL\n",
      "OPENMP Installed:   False\n",
      "INTEL MKL Ext:      True\n",
      "Platform Info:      Linux (x86_64)\n",
      "Installation path:  /home/eric/anaconda3/lib/python3.7/site-packages/qutip-4.4.0.dev0+42af593a-py3.7-linux-x86_64.egg/qutip\n",
      "==============================================================================\n",
      "Please cite QuTiP in your publication.\n",
      "==============================================================================\n",
      "For your convenience a bibtex reference can be easily generated using `qutip.cite()`\n"
     ]
    }
   ],
   "source": [
    "qt.about()"
   ]
  },
  {
   "cell_type": "code",
   "execution_count": null,
   "metadata": {},
   "outputs": [],
   "source": []
  }
 ],
 "metadata": {
  "kernelspec": {
   "display_name": "Python 3",
   "language": "python",
   "name": "python3"
  },
  "language_info": {
   "codemirror_mode": {
    "name": "ipython",
    "version": 3
   },
   "file_extension": ".py",
   "mimetype": "text/x-python",
   "name": "python",
   "nbconvert_exporter": "python",
   "pygments_lexer": "ipython3",
   "version": "3.7.3"
  }
 },
 "nbformat": 4,
 "nbformat_minor": 2
}
